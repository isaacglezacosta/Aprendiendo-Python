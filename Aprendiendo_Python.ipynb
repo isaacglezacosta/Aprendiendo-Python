{
  "nbformat": 4,
  "nbformat_minor": 0,
  "metadata": {
    "colab": {
      "provenance": [],
      "include_colab_link": true
    },
    "kernelspec": {
      "name": "python3",
      "display_name": "Python 3"
    },
    "language_info": {
      "name": "python"
    }
  },
  "cells": [
    {
      "cell_type": "markdown",
      "metadata": {
        "id": "view-in-github",
        "colab_type": "text"
      },
      "source": [
        "<a href=\"https://colab.research.google.com/github/isaacglezacosta/Aprendiendo-Python/blob/main/Aprendiendo_Python.ipynb\" target=\"_parent\"><img src=\"https://colab.research.google.com/assets/colab-badge.svg\" alt=\"Open In Colab\"/></a>"
      ]
    },
    {
      "cell_type": "markdown",
      "source": [
        "# Aprendiendo Python\n",
        "Este es un cuaderno para aprender a programar en el lenguaje Python.\n"
      ],
      "metadata": {
        "id": "CF04q8fxU4x9"
      }
    },
    {
      "cell_type": "markdown",
      "source": [
        "### Primer programa"
      ],
      "metadata": {
        "id": "9miEyaFUVOTq"
      }
    },
    {
      "cell_type": "code",
      "execution_count": null,
      "metadata": {
        "colab": {
          "base_uri": "https://localhost:8080/"
        },
        "id": "-WS06s0wU0bE",
        "outputId": "06766d95-fcfc-4356-f585-d481d7d4cd56"
      },
      "outputs": [
        {
          "output_type": "stream",
          "name": "stdout",
          "text": [
            "Hola, mundo\n"
          ]
        }
      ],
      "source": [
        "print(\"Hola, mundo\")"
      ]
    },
    {
      "cell_type": "markdown",
      "source": [
        "### Comentarios"
      ],
      "metadata": {
        "id": "FLA3GSb_VbWN"
      }
    },
    {
      "cell_type": "markdown",
      "source": [
        "Los comentarios sirven para comentar partes de código y saber qué hace cada cosa."
      ],
      "metadata": {
        "id": "bWG-jLmXVts_"
      }
    },
    {
      "cell_type": "code",
      "source": [
        "# Este es un comentario\n",
        "\n",
        "print(\"Hola, Python\") # Esta línea muestra en consola 'Hola, Python'\n",
        "\n",
        "\"\"\"\n",
        "Este es un\n",
        "comentario\n",
        "en varias líneas\n",
        "\"\"\""
      ],
      "metadata": {
        "colab": {
          "base_uri": "https://localhost:8080/",
          "height": 35
        },
        "id": "ykALjgn-VNgO",
        "outputId": "6cd30f8c-408e-41db-888f-9c0a7aa8dbf1"
      },
      "execution_count": null,
      "outputs": [
        {
          "output_type": "execute_result",
          "data": {
            "text/plain": [
              "'\\nEste es un\\ncomentario \\nen varias líneas\\n'"
            ],
            "application/vnd.google.colaboratory.intrinsic+json": {
              "type": "string"
            }
          },
          "metadata": {},
          "execution_count": 2
        }
      ]
    },
    {
      "cell_type": "markdown",
      "source": [
        "También pueden usarse para descubrir posibles bugs, comentando el código que tiene el bug o el que creemos que está bien."
      ],
      "metadata": {
        "id": "1wuSjh86Xhi8"
      }
    },
    {
      "cell_type": "code",
      "source": [
        "nombre = \"Julia\"\n",
        "edad = 23\n",
        "\n",
        "print(\"Su nombre es:\", nombre)\n",
        "# print(\"Tiene\", edad \"años\")"
      ],
      "metadata": {
        "colab": {
          "base_uri": "https://localhost:8080/"
        },
        "id": "9wMXy3G5YC_y",
        "outputId": "de98db59-3894-4800-83c8-b53bbde48b18"
      },
      "execution_count": null,
      "outputs": [
        {
          "output_type": "stream",
          "name": "stdout",
          "text": [
            "Su nombre es: Julia\n"
          ]
        }
      ]
    },
    {
      "cell_type": "markdown",
      "source": [
        "# Sección nueva"
      ],
      "metadata": {
        "id": "xgRAYawxmb34"
      }
    }
  ]
}