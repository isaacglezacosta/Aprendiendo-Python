{
  "nbformat": 4,
  "nbformat_minor": 0,
  "metadata": {
    "colab": {
      "provenance": [],
      "collapsed_sections": [
        "9miEyaFUVOTq",
        "LuLagcdsrIWf",
        "FLA3GSb_VbWN",
        "xgRAYawxmb34",
        "4wAtPej1uiso",
        "Q4bf-dC7uqZu",
        "o0wuCf5e95tD",
        "Nq6TBkfSu510",
        "3gmJBi-jXsSA",
        "uDxWlM6b-B2W",
        "5WwkfiM29u4E",
        "IlRiH83LmoVm",
        "yCzob2QKn0YI",
        "F9jVWVzfqB2d",
        "_nK_XV40NUpH",
        "fRgW7qrm6Iac",
        "-UCAer9guwxV"
      ],
      "include_colab_link": true
    },
    "kernelspec": {
      "name": "python3",
      "display_name": "Python 3"
    },
    "language_info": {
      "name": "python"
    }
  },
  "cells": [
    {
      "cell_type": "markdown",
      "metadata": {
        "id": "view-in-github",
        "colab_type": "text"
      },
      "source": [
        "<a href=\"https://colab.research.google.com/github/isaacglezacosta/Aprendiendo-Python/blob/main/Aprendiendo_Python.ipynb\" target=\"_parent\"><img src=\"https://colab.research.google.com/assets/colab-badge.svg\" alt=\"Open In Colab\"/></a>"
      ]
    },
    {
      "cell_type": "markdown",
      "source": [
        "# Aprendiendo Python\n",
        "Este es un cuaderno para aprender a programar en el lenguaje Python.\n"
      ],
      "metadata": {
        "id": "CF04q8fxU4x9"
      }
    },
    {
      "cell_type": "markdown",
      "source": [
        "## Primer programa"
      ],
      "metadata": {
        "id": "9miEyaFUVOTq"
      }
    },
    {
      "cell_type": "code",
      "execution_count": null,
      "metadata": {
        "id": "-WS06s0wU0bE"
      },
      "outputs": [],
      "source": [
        "print(\"Hola, mundo\")"
      ]
    },
    {
      "cell_type": "markdown",
      "source": [
        "## Entrada/Salida de datos"
      ],
      "metadata": {
        "id": "LuLagcdsrIWf"
      }
    },
    {
      "cell_type": "markdown",
      "source": [
        "En un progrma es fundamental que el usuario pueda interactuar con él y también que nuestro programa pueda mostrar información. Para que el usuario pueda ingresar datos usamos la función 'input()', para mostrar información usamos la función 'print()'."
      ],
      "metadata": {
        "id": "GQGGY0lzuVx1"
      }
    },
    {
      "cell_type": "code",
      "source": [
        "nombre = input(\"¿Cuál es su nombre? \")\n",
        "\n",
        "print(f\"¡Hola, {nombre}!\")"
      ],
      "metadata": {
        "colab": {
          "base_uri": "https://localhost:8080/"
        },
        "id": "M7HyJj7srpHn",
        "outputId": "f0f70aef-706f-43d0-b39d-e5f778af6768"
      },
      "execution_count": null,
      "outputs": [
        {
          "output_type": "stream",
          "name": "stdout",
          "text": [
            "¿Cuál es su nombre? Víctor\n",
            "¡Hola, Víctor!\n"
          ]
        }
      ]
    },
    {
      "cell_type": "markdown",
      "source": [
        "## Comentarios"
      ],
      "metadata": {
        "id": "FLA3GSb_VbWN"
      }
    },
    {
      "cell_type": "markdown",
      "source": [
        "### Comentarios en una linea"
      ],
      "metadata": {
        "id": "xc2_VDqktJhI"
      }
    },
    {
      "cell_type": "markdown",
      "source": [
        "Los comentarios sirven para comentar partes de código y saber qué hace cada cosa."
      ],
      "metadata": {
        "id": "bWG-jLmXVts_"
      }
    },
    {
      "cell_type": "code",
      "source": [
        "# Este es un comentario\n",
        "\n",
        "print(\"Hola, Python\") # Esta línea muestra en consola 'Hola, Python'"
      ],
      "metadata": {
        "colab": {
          "base_uri": "https://localhost:8080/"
        },
        "id": "ykALjgn-VNgO",
        "outputId": "9602f9cd-6211-4474-e9cd-05742d97c2e0"
      },
      "execution_count": null,
      "outputs": [
        {
          "output_type": "stream",
          "name": "stdout",
          "text": [
            "Hola, Python\n"
          ]
        }
      ]
    },
    {
      "cell_type": "markdown",
      "source": [
        "### Comentario en múltiples líneas"
      ],
      "metadata": {
        "id": "sSCGxX9atbmy"
      }
    },
    {
      "cell_type": "code",
      "source": [
        "\"\"\"\n",
        "Este es un\n",
        "comentario en\n",
        "múltiples líneas\n",
        "\"\"\""
      ],
      "metadata": {
        "id": "8fhSIsHmtiFH"
      },
      "execution_count": null,
      "outputs": []
    },
    {
      "cell_type": "markdown",
      "source": [
        "### Usos"
      ],
      "metadata": {
        "id": "5LNQzHp5tyni"
      }
    },
    {
      "cell_type": "markdown",
      "source": [
        "Los comentarios pueden usarse para comentar partes del código que nos ayude a saber qué hace para revisiones posteriores. Además permite descubrir posibles bugs, comentando el código que posiblemente tiene el bug o el que creemos que está bien."
      ],
      "metadata": {
        "id": "1wuSjh86Xhi8"
      }
    },
    {
      "cell_type": "code",
      "source": [
        "nombre = \"Julia\"\n",
        "edad = 23\n",
        "\n",
        "print(\"Su nombre es:\", nombre)\n",
        "# print(\"Tiene\", edad \"años\")"
      ],
      "metadata": {
        "colab": {
          "base_uri": "https://localhost:8080/"
        },
        "id": "9wMXy3G5YC_y",
        "outputId": "de98db59-3894-4800-83c8-b53bbde48b18"
      },
      "execution_count": null,
      "outputs": [
        {
          "output_type": "stream",
          "name": "stdout",
          "text": [
            "Su nombre es: Julia\n"
          ]
        }
      ]
    },
    {
      "cell_type": "markdown",
      "source": [
        "## Variables"
      ],
      "metadata": {
        "id": "xgRAYawxmb34"
      }
    },
    {
      "cell_type": "markdown",
      "source": [
        "### ¿Qué son?"
      ],
      "metadata": {
        "id": "4wAtPej1uiso"
      }
    },
    {
      "cell_type": "markdown",
      "source": [
        "Una variable es un espacio en memoria. Todas las variables que creamos tienen un nombre y un valor. Son importantes ya que nos permiten almacenar y manipular datos."
      ],
      "metadata": {
        "id": "aKVK5mIQuoEs"
      }
    },
    {
      "cell_type": "code",
      "source": [
        "edad = 18 # La variable tiene el nombre de 'edad' y su valor es '18'."
      ],
      "metadata": {
        "id": "ciJBIa1Ko3ch"
      },
      "execution_count": null,
      "outputs": []
    },
    {
      "cell_type": "markdown",
      "source": [
        "### Declaración de variables"
      ],
      "metadata": {
        "id": "Q4bf-dC7uqZu"
      }
    },
    {
      "cell_type": "markdown",
      "source": [
        "Para declarar una variable primero ponemos el nombre de la variable, posteriormente el operador de asignación ('=') y luego el valor."
      ],
      "metadata": {
        "id": "bgrJhaScszq9"
      }
    },
    {
      "cell_type": "code",
      "source": [
        "nombre_variable = \"valor_variable\""
      ],
      "metadata": {
        "id": "n68VRQa1svDY"
      },
      "execution_count": null,
      "outputs": []
    },
    {
      "cell_type": "markdown",
      "source": [
        "Python es un lenguaje de tipado dinámico, por lo que no es necesario declarar explicitamente el tipo de dato de una variable."
      ],
      "metadata": {
        "id": "Ed86oY_5p5Tw"
      }
    },
    {
      "cell_type": "code",
      "source": [
        "fruta = \"Manzana\" # str\n",
        "cantidad = 5 # int"
      ],
      "metadata": {
        "id": "_R4zvTDLp4wA"
      },
      "execution_count": null,
      "outputs": []
    },
    {
      "cell_type": "markdown",
      "source": [
        "**Asignación múltiple**"
      ],
      "metadata": {
        "id": "wP8rDQt6zdxs"
      }
    },
    {
      "cell_type": "markdown",
      "source": [
        "Python permite asignar valores en una misma línea a varias variables."
      ],
      "metadata": {
        "id": "9UXVc--zWqFN"
      }
    },
    {
      "cell_type": "code",
      "source": [
        "numeroUno, numeroDos, numeroTres = 12, 34, 40\n",
        "\n",
        "print(numeroUno, numeroDos, numeroTres)"
      ],
      "metadata": {
        "colab": {
          "base_uri": "https://localhost:8080/"
        },
        "id": "jI0jRzQWWZZw",
        "outputId": "73f27117-d700-4cf6-dbe4-6a9de4c1ecd7"
      },
      "execution_count": null,
      "outputs": [
        {
          "output_type": "stream",
          "name": "stdout",
          "text": [
            "12 34 40\n"
          ]
        }
      ]
    },
    {
      "cell_type": "markdown",
      "source": [
        "Además, se puede asignar el mismo valor a varias variables."
      ],
      "metadata": {
        "id": "fEn5hDbxWthE"
      }
    },
    {
      "cell_type": "code",
      "source": [
        "uno = Uno = UNO = 1\n",
        "\n",
        "print(uno, Uno, UNO)\n",
        "\n",
        "# Observación: las variables en Python son case-sensitive, uno != Uno"
      ],
      "metadata": {
        "colab": {
          "base_uri": "https://localhost:8080/"
        },
        "id": "9xmjWZOoWxrw",
        "outputId": "75e7c207-e0a3-4c5f-be6f-3a7d59d57563"
      },
      "execution_count": null,
      "outputs": [
        {
          "output_type": "stream",
          "name": "stdout",
          "text": [
            "1 1 1\n"
          ]
        }
      ]
    },
    {
      "cell_type": "markdown",
      "source": [
        "### Reasignación de variables"
      ],
      "metadata": {
        "id": "o0wuCf5e95tD"
      }
    },
    {
      "cell_type": "markdown",
      "source": [
        "En sí una variable es un objeto que su valor puede ser modificado a lo largo del programa. Las variables en Python pueden cambiar su valor, de manera que puede ser cambiado su tipo de dato."
      ],
      "metadata": {
        "id": "ybAIcmB88h_G"
      }
    },
    {
      "cell_type": "code",
      "source": [
        "variable = 12 # Aquí 'variable' es de tipo 'int' y su valor es '12'\n",
        "print(variable)\n",
        "\n",
        "variable = \"Doce\" # Ahora 'variable' es de tipo 'string' y su valor es 'Doce'\n",
        "print(variable)"
      ],
      "metadata": {
        "colab": {
          "base_uri": "https://localhost:8080/"
        },
        "id": "EaxBVeVB82_O",
        "outputId": "02a3839d-d98f-475c-9b84-ccb6679eef52"
      },
      "execution_count": null,
      "outputs": [
        {
          "output_type": "stream",
          "name": "stdout",
          "text": [
            "12\n",
            "Doce\n"
          ]
        }
      ]
    },
    {
      "cell_type": "markdown",
      "source": [
        "### Nombrar variables"
      ],
      "metadata": {
        "id": "Nq6TBkfSu510"
      }
    },
    {
      "cell_type": "markdown",
      "source": [
        "Existen una serie de reglas para nombrar variables:\n",
        "\n",
        "*   Una variable puede contener letras (A-z), números (0-9) y guiones bajos.\n",
        "*   Una variable puede empezar por una letra o un guión bajo, pero nunca por un número.\n",
        "*   No se pueden usar las [palabras reservadas](https://www.geeksforgeeks.org/python-keywords/).\n",
        "\n",
        "\n",
        "\n"
      ],
      "metadata": {
        "id": "tSX2SQdSvImU"
      }
    },
    {
      "cell_type": "code",
      "source": [
        "# Variables nombradas correctamente\n",
        "mivariable = 10\n",
        "mi_variable = 10\n",
        "_mivariable = 10\n",
        "MIVARIABLE = 10\n",
        "MiVariable1 = 10\n",
        "\n",
        "# Variables nombradas incorrectamente\n",
        "1mivariable = 10\n",
        "mi variable = 10\n",
        "mi-variable = 10"
      ],
      "metadata": {
        "id": "C3grHtj44MOT"
      },
      "execution_count": null,
      "outputs": []
    },
    {
      "cell_type": "markdown",
      "source": [
        "**Convenciones para nombrar correctamente una variable.**"
      ],
      "metadata": {
        "id": "QbS-Sw7qxQDq"
      }
    },
    {
      "cell_type": "markdown",
      "source": [
        "*Camel Case*\n",
        "\n"
      ],
      "metadata": {
        "id": "GUA2G7RexXiJ"
      }
    },
    {
      "cell_type": "markdown",
      "source": [
        "Cada palabra, menos la primera, se escribe la primera letra en mayúscula."
      ],
      "metadata": {
        "id": "eBHI58B_x0ox"
      }
    },
    {
      "cell_type": "code",
      "source": [
        "miVariable = 10"
      ],
      "metadata": {
        "id": "azIK2KSG4bbu"
      },
      "execution_count": null,
      "outputs": []
    },
    {
      "cell_type": "markdown",
      "source": [
        "*Pascal Case*"
      ],
      "metadata": {
        "id": "gWZQl4wgyB6u"
      }
    },
    {
      "cell_type": "markdown",
      "source": [
        "Cada palabra inicia con la primera letra en mayúscula.\n",
        "\n",
        "\n"
      ],
      "metadata": {
        "id": "3SC0CcK5yEcq"
      }
    },
    {
      "cell_type": "code",
      "source": [
        "MiVariable = 10"
      ],
      "metadata": {
        "id": "T3UwRnc94hIy"
      },
      "execution_count": null,
      "outputs": []
    },
    {
      "cell_type": "markdown",
      "source": [
        "*Snake Case*"
      ],
      "metadata": {
        "id": "fHD1301OyN2y"
      }
    },
    {
      "cell_type": "markdown",
      "source": [
        "Cada palabra se separa por un guión bajo."
      ],
      "metadata": {
        "id": "uxvhO0wTyRnq"
      }
    },
    {
      "cell_type": "code",
      "source": [
        "mi_variable = 10"
      ],
      "metadata": {
        "id": "Kur8tWtV4l0z"
      },
      "execution_count": null,
      "outputs": []
    },
    {
      "cell_type": "markdown",
      "source": [
        "**Como regla general:**\n",
        "\n",
        "*   Usar nombres para variables (ejemplo article).\n",
        "*   Usar verbos para funciones (ejemplo get_article()).\n",
        "*   Usar verbos para funciones (ejemplo get_article())."
      ],
      "metadata": {
        "id": "AEgfh4sty13I"
      }
    },
    {
      "cell_type": "markdown",
      "source": [
        "Es importante recalcar que una variable debe tener un nombre que sea preferentemente corto pero que sea conciso con lo que almacena.\n",
        "\n",
        "\n",
        "```\n",
        "# Evitar usar\n",
        "x = 1\n",
        "# En su lugar usar algo como\n",
        "numero = 1\n",
        "```\n",
        "\n"
      ],
      "metadata": {
        "id": "evjRbpslyZkW"
      }
    },
    {
      "cell_type": "markdown",
      "source": [
        "### Variables globales y locales"
      ],
      "metadata": {
        "id": "3gmJBi-jXsSA"
      }
    },
    {
      "cell_type": "markdown",
      "source": [
        "Una variable local es accesible en todo el código. En cambio, una variable local solo puede ser usada en cierta parte del código."
      ],
      "metadata": {
        "id": "mxYBCxOJZ2-s"
      }
    },
    {
      "cell_type": "code",
      "source": [
        "x = \"increíble\" # Variable global\n",
        "\n",
        "def myfunc():\n",
        "  y = \"divertido.\" # Variable local\n",
        "  print(\"Python es \" + x + \" y \" + y)\n",
        "\n",
        "myfunc()"
      ],
      "metadata": {
        "id": "uCCe32f5Xrw_",
        "colab": {
          "base_uri": "https://localhost:8080/"
        },
        "outputId": "b31c708a-688a-4086-fda0-b0ae82ee5bd8"
      },
      "execution_count": null,
      "outputs": [
        {
          "output_type": "stream",
          "name": "stdout",
          "text": [
            "Python es increíble y divertido.\n"
          ]
        }
      ]
    },
    {
      "cell_type": "markdown",
      "source": [
        "Para hacer una variable local en global usamos la keyword 'global'."
      ],
      "metadata": {
        "id": "fBOFsHkzbbIJ"
      }
    },
    {
      "cell_type": "code",
      "source": [
        "def myfunc():\n",
        "  global y\n",
        "  y = \"divertido.\" # Ahora es global\n",
        "\n",
        "myfunc()\n",
        "\n",
        "print(\"Python es \" + y)"
      ],
      "metadata": {
        "colab": {
          "base_uri": "https://localhost:8080/"
        },
        "id": "FWyz3oCsbhIE",
        "outputId": "c38165db-a8eb-4a8a-e242-51923f3d24e8"
      },
      "execution_count": null,
      "outputs": [
        {
          "output_type": "stream",
          "name": "stdout",
          "text": [
            "Python es divertido.\n"
          ]
        }
      ]
    },
    {
      "cell_type": "markdown",
      "source": [
        "### Borrar variables"
      ],
      "metadata": {
        "id": "uDxWlM6b-B2W"
      }
    },
    {
      "cell_type": "markdown",
      "source": [
        "Se puede eliminar una variable con la instrucción 'del'."
      ],
      "metadata": {
        "id": "s37TiUUc-E4t"
      }
    },
    {
      "cell_type": "code",
      "source": [
        "suma = 2 + 2\n",
        "print(suma)\n",
        "\n",
        "del suma\n",
        "print(suma) # Error al ejecutarse porque no está definida"
      ],
      "metadata": {
        "colab": {
          "base_uri": "https://localhost:8080/"
        },
        "id": "s1UpP1BN-Lh6",
        "outputId": "6b464af9-2215-4e73-fcd5-ff895e786666"
      },
      "execution_count": null,
      "outputs": [
        {
          "output_type": "stream",
          "name": "stdout",
          "text": [
            "4\n"
          ]
        },
        {
          "output_type": "error",
          "ename": "NameError",
          "evalue": "ignored",
          "traceback": [
            "\u001b[0;31m---------------------------------------------------------------------------\u001b[0m",
            "\u001b[0;31mNameError\u001b[0m                                 Traceback (most recent call last)",
            "\u001b[0;32m<ipython-input-3-cfb7a97aa489>\u001b[0m in \u001b[0;36m<cell line: 5>\u001b[0;34m()\u001b[0m\n\u001b[1;32m      3\u001b[0m \u001b[0;34m\u001b[0m\u001b[0m\n\u001b[1;32m      4\u001b[0m \u001b[0;32mdel\u001b[0m \u001b[0msuma\u001b[0m\u001b[0;34m\u001b[0m\u001b[0;34m\u001b[0m\u001b[0m\n\u001b[0;32m----> 5\u001b[0;31m \u001b[0mprint\u001b[0m\u001b[0;34m(\u001b[0m\u001b[0msuma\u001b[0m\u001b[0;34m)\u001b[0m\u001b[0;34m\u001b[0m\u001b[0;34m\u001b[0m\u001b[0m\n\u001b[0m",
            "\u001b[0;31mNameError\u001b[0m: name 'suma' is not defined"
          ]
        }
      ]
    },
    {
      "cell_type": "markdown",
      "source": [
        "## Constantes"
      ],
      "metadata": {
        "id": "5WwkfiM29u4E"
      }
    },
    {
      "cell_type": "markdown",
      "source": [
        "### ¿Qué son?"
      ],
      "metadata": {
        "id": "IlRiH83LmoVm"
      }
    },
    {
      "cell_type": "markdown",
      "source": [
        "Es un valor que funciona igual que una variable, a excepción de que durante la ejecución del programa no es modificada, siempre se mantiene su valor."
      ],
      "metadata": {
        "id": "1AZbrYXG9zaI"
      }
    },
    {
      "cell_type": "code",
      "source": [
        "PI = 3.1416"
      ],
      "metadata": {
        "id": "iyoaJcZBmf0l"
      },
      "execution_count": null,
      "outputs": []
    },
    {
      "cell_type": "markdown",
      "source": [
        "### Nombrar constantes"
      ],
      "metadata": {
        "id": "yCzob2QKn0YI"
      }
    },
    {
      "cell_type": "markdown",
      "source": [
        "Para nombrar una constante se siguen las mismas reglas que para una variable, pero se recomienda que las letras se escriban en mayúcula."
      ],
      "metadata": {
        "id": "2tkKYfv3m-mO"
      }
    },
    {
      "cell_type": "code",
      "source": [
        "VELOCIDAD_LUZ = 300000"
      ],
      "metadata": {
        "id": "qQYvkwzVnSR8"
      },
      "execution_count": null,
      "outputs": []
    },
    {
      "cell_type": "markdown",
      "source": [
        "## Tipo de datos"
      ],
      "metadata": {
        "id": "dYvhHlN8zT3Z"
      }
    },
    {
      "cell_type": "markdown",
      "source": [
        "### Los tipos de datos que existen en Python"
      ],
      "metadata": {
        "id": "F9jVWVzfqB2d"
      }
    },
    {
      "cell_type": "markdown",
      "source": [
        "Las variables almacenan datos de distintos [tipos](https://www.w3schools.com/python/python_datatypes.asp). Conocer los tipos de datos es importante para saber qué podemos hacer con ellos."
      ],
      "metadata": {
        "id": "g3LhPfT3j5EV"
      }
    },
    {
      "cell_type": "code",
      "source": [
        "# Texto\n",
        "cadena = \"Soy un string\" # str\n",
        "\n",
        "# Numéricos\n",
        "entero = 10 # int\n",
        "flotante = 3.14 # float\n",
        "complejo = 2j # complex\n",
        "booleano1 = True # bool\n",
        "booleano0 = False # bool\n",
        "\n",
        "# Secuencia\n",
        "lista = [\"uno\", \"dos\", \"tres\"] # list\n",
        "tupla = (1, 2, 3) # tuple\n",
        "rango =  range(100) # range\n",
        "\n",
        "# Mapping\n",
        "diccionario = {'Chrome': 'v79' , 'Firefox': 'v71'} # dict\n",
        "\n",
        "# Set\n",
        "set_ = set([2, 4, 6]) # set"
      ],
      "metadata": {
        "id": "Kt2WmQXjLI1Z"
      },
      "execution_count": null,
      "outputs": []
    },
    {
      "cell_type": "markdown",
      "source": [
        "![data_types.jpg](data:image/jpeg;base64,/9j/4AAQSkZJRgABAQEAYABgAAD/4RDoRXhpZgAATU0AKgAAAAgABQESAAMAAAABAAEAAAE7AAIAAAAGAAAIVodpAAQAAAABAAAIXJydAAEAAAAMAAAQ1OocAAcAAAgMAAAASgAAAAAc6gAAAAgAAAAAAAAAAAAAAAAAAAAAAAAAAAAAAAAAAAAAAAAAAAAAAAAAAAAAAAAAAAAAAAAAAAAAAAAAAAAAAAAAAAAAAAAAAAAAAAAAAAAAAAAAAAAAAAAAAAAAAAAAAAAAAAAAAAAAAAAAAAAAAAAAAAAAAAAAAAAAAAAAAAAAAAAAAAAAAAAAAAAAAAAAAAAAAAAAAAAAAAAAAAAAAAAAAAAAAAAAAAAAAAAAAAAAAAAAAAAAAAAAAAAAAAAAAAAAAAAAAAAAAAAAAAAAAAAAAAAAAAAAAAAAAAAAAAAAAAAAAAAAAAAAAAAAAAAAAAAAAAAAAAAAAAAAAAAAAAAAAAAAAAAAAAAAAAAAAAAAAAAAAAAAAAAAAAAAAAAAAAAAAAAAAAAAAAAAAAAAAAAAAAAAAAAAAAAAAAAAAAAAAAAAAAAAAAAAAAAAAAAAAAAAAAAAAAAAAAAAAAAAAAAAAAAAAAAAAAAAAAAAAAAAAAAAAAAAAAAAAAAAAAAAAAAAAAAAAAAAAAAAAAAAAAAAAAAAAAAAAAAAAAAAAAAAAAAAAAAAAAAAAAAAAAAAAAAAAAAAAAAAAAAAAAAAAAAAAAAAAAAAAAAAAAAAAAAAAAAAAAAAAAAAAAAAAAAAAAAAAAAAAAAAAAAAAAAAAAAAAAAAAAAAAAAAAAAAAAAAAAAAAAAAAAAAAAAAAAAAAAAAAAAAAAAAAAAAAAAAAAAAAAAAAAAAAAAAAAAAAAAAAAAAAAAAAAAAAAAAAAAAAAAAAAAAAAAAAAAAAAAAAAAAAAAAAAAAAAAAAAAAAAAAAAAAAAAAAAAAAAAAAAAAAAAAAAAAAAAAAAAAAAAAAAAAAAAAAAAAAAAAAAAAAAAAAAAAAAAAAAAAAAAAAAAAAAAAAAAAAAAAAAAAAAAAAAAAAAAAAAAAAAAAAAAAAAAAAAAAAAAAAAAAAAAAAAAAAAAAAAAAAAAAAAAAAAAAAAAAAAAAAAAAAAAAAAAAAAAAAAAAAAAAAAAAAAAAAAAAAAAAAAAAAAAAAAAAAAAAAAAAAAAAAAAAAAAAAAAAAAAAAAAAAAAAAAAAAAAAAAAAAAAAAAAAAAAAAAAAAAAAAAAAAAAAAAAAAAAAAAAAAAAAAAAAAAAAAAAAAAAAAAAAAAAAAAAAAAAAAAAAAAAAAAAAAAAAAAAAAAAAAAAAAAAAAAAAAAAAAAAAAAAAAAAAAAAAAAAAAAAAAAAAAAAAAAAAAAAAAAAAAAAAAAAAAAAAAAAAAAAAAAAAAAAAAAAAAAAAAAAAAAAAAAAAAAAAAAAAAAAAAAAAAAAAAAAAAAAAAAAAAAAAAAAAAAAAAAAAAAAAAAAAAAAAAAAAAAAAAAAAAAAAAAAAAAAAAAAAAAAAAAAAAAAAAAAAAAAAAAAAAAAAAAAAAAAAAAAAAAAAAAAAAAAAAAAAAAAAAAAAAAAAAAAAAAAAAAAAAAAAAAAAAAAAAAAAAAAAAAAAAAAAAAAAAAAAAAAAAAAAAAAAAAAAAAAAAAAAAAAAAAAAAAAAAAAAAAAAAAAAAAAAAAAAAAAAAAAAAAAAAAAAAAAAAAAAAAAAAAAAAAAAAAAAAAAAAAAAAAAAAAAAAAAAAAAAAAAAAAAAAAAAAAAAAAAAAAAAAAAAAAAAAAAAAAAAAAAAAAAAAAAAAAAAAAAAAAAAAAAAAAAAAAAAAAAAAAAAAAAAAAAAAAAAAAAAAAAAAAAAAAAAAAAAAAAAAAAAAAAAAAAAAAAAAAAAAAAAAAAAAAAAAAAAAAAAAAAAAAAAAAAAAAAAAAAAAAAAAAAAAAAAAAAAAAAAAAAAAAAAAAAAAAAAAAAAAAAAAAAAAAAAAAAAAAAAAAAAAAAAAAAAAAAAAAAAAAAAAAAAAAAAAAAAAAAAAAAAAAAAAAAAAAAAAAAAAAAAAAAAAAAAAAAAAAAAAAAAAAAAAAAAAAAAAAAAAAAAAAAAAAAAAAAAAAAAAAAAAAAAAAAAAAAAAAAAAAAAAAAAAAAAAAAAAAAAAAAAAAAAAAAAAAAAAAAAAAAAAAAAAAAAAAAAAAAAAAAAAAAAAAAAAAAAAAAAAAAAAAAAAAAAAAAAAAAAAAAAAAAAAAAAAAAAAAAAAAAAAAAAAAAAAAAAAAAAAAAAAAAAAAAAAAAAAAAAAAAAAAAAAAAAAAAAAAAAAAAAAAAAAAAAAAAAAAAAAAAAAAAAAAAAAAAAAAAAAAAAAAAAAAAAAAAAAAAAAAAAAAAAAAAAAAAAAAAAAAAAAAAAAAAAAAAAAAAAAAAAAAAAAAAAAAAAAAAAAAAAAAAAAAAAAAAAAAAAAAAAAAAAAAAAAAAAAAAAAAAAAAAAAAAAAAAAAAAAAAAAAAAAAAAAAAAAAAAAAAAAAAAAAAAAAAAAAAAAAAAAAAAAAAAAAAAAAAAAAAAAAAAAAAAAAAAAAAAAAAAAAAAAAAAAAAAAAAAAAAAAAAAAAAAAAAAAAAAAAAAAAAAAAAAAAAAAAAAAAAAAAAAAAAAAAAAAAAAAAAAAAAAAAAAAAAAAAAAAAAAAAAAAAAAAAAAAAAAAAAAAAAAAAAAAAAAAAAAAAAAAAAAAAAAAAAAAAAAAAAAAAAAAAAAAAAAAAAAAAAAAAAAAAAAAAAAAAAAAAAAAAAAAAAAAAAAAAAAAAAAAAAAAAAAAAAAAAAAAAAAAAAAAAAAAAAAAAAAAAAAAAAAAAAAAAAAAAAAAAAAAAAAAAAAAAAAAAAAAAAAAAEtpcmFuAAAFkAMAAgAAABQAABCqkAQAAgAAABQAABC+kpEAAgAAAAM2MQAAkpIAAgAAAAM2MQAA6hwABwAACAwAAAieAAAAABzqAAAACAAAAAAAAAAAAAAAAAAAAAAAAAAAAAAAAAAAAAAAAAAAAAAAAAAAAAAAAAAAAAAAAAAAAAAAAAAAAAAAAAAAAAAAAAAAAAAAAAAAAAAAAAAAAAAAAAAAAAAAAAAAAAAAAAAAAAAAAAAAAAAAAAAAAAAAAAAAAAAAAAAAAAAAAAAAAAAAAAAAAAAAAAAAAAAAAAAAAAAAAAAAAAAAAAAAAAAAAAAAAAAAAAAAAAAAAAAAAAAAAAAAAAAAAAAAAAAAAAAAAAAAAAAAAAAAAAAAAAAAAAAAAAAAAAAAAAAAAAAAAAAAAAAAAAAAAAAAAAAAAAAAAAAAAAAAAAAAAAAAAAAAAAAAAAAAAAAAAAAAAAAAAAAAAAAAAAAAAAAAAAAAAAAAAAAAAAAAAAAAAAAAAAAAAAAAAAAAAAAAAAAAAAAAAAAAAAAAAAAAAAAAAAAAAAAAAAAAAAAAAAAAAAAAAAAAAAAAAAAAAAAAAAAAAAAAAAAAAAAAAAAAAAAAAAAAAAAAAAAAAAAAAAAAAAAAAAAAAAAAAAAAAAAAAAAAAAAAAAAAAAAAAAAAAAAAAAAAAAAAAAAAAAAAAAAAAAAAAAAAAAAAAAAAAAAAAAAAAAAAAAAAAAAAAAAAAAAAAAAAAAAAAAAAAAAAAAAAAAAAAAAAAAAAAAAAAAAAAAAAAAAAAAAAAAAAAAAAAAAAAAAAAAAAAAAAAAAAAAAAAAAAAAAAAAAAAAAAAAAAAAAAAAAAAAAAAAAAAAAAAAAAAAAAAAAAAAAAAAAAAAAAAAAAAAAAAAAAAAAAAAAAAAAAAAAAAAAAAAAAAAAAAAAAAAAAAAAAAAAAAAAAAAAAAAAAAAAAAAAAAAAAAAAAAAAAAAAAAAAAAAAAAAAAAAAAAAAAAAAAAAAAAAAAAAAAAAAAAAAAAAAAAAAAAAAAAAAAAAAAAAAAAAAAAAAAAAAAAAAAAAAAAAAAAAAAAAAAAAAAAAAAAAAAAAAAAAAAAAAAAAAAAAAAAAAAAAAAAAAAAAAAAAAAAAAAAAAAAAAAAAAAAAAAAAAAAAAAAAAAAAAAAAAAAAAAAAAAAAAAAAAAAAAAAAAAAAAAAAAAAAAAAAAAAAAAAAAAAAAAAAAAAAAAAAAAAAAAAAAAAAAAAAAAAAAAAAAAAAAAAAAAAAAAAAAAAAAAAAAAAAAAAAAAAAAAAAAAAAAAAAAAAAAAAAAAAAAAAAAAAAAAAAAAAAAAAAAAAAAAAAAAAAAAAAAAAAAAAAAAAAAAAAAAAAAAAAAAAAAAAAAAAAAAAAAAAAAAAAAAAAAAAAAAAAAAAAAAAAAAAAAAAAAAAAAAAAAAAAAAAAAAAAAAAAAAAAAAAAAAAAAAAAAAAAAAAAAAAAAAAAAAAAAAAAAAAAAAAAAAAAAAAAAAAAAAAAAAAAAAAAAAAAAAAAAAAAAAAAAAAAAAAAAAAAAAAAAAAAAAAAAAAAAAAAAAAAAAAAAAAAAAAAAAAAAAAAAAAAAAAAAAAAAAAAAAAAAAAAAAAAAAAAAAAAAAAAAAAAAAAAAAAAAAAAAAAAAAAAAAAAAAAAAAAAAAAAAAAAAAAAAAAAAAAAAAAAAAAAAAAAAAAAAAAAAAAAAAAAAAAAAAAAAAAAAAAAAAAAAAAAAAAAAAAAAAAAAAAAAAAAAAAAAAAAAAAAAAAAAAAAAAAAAAAAAAAAAAAAAAAAAAAAAAAAAAAAAAAAAAAAAAAAAAAAAAAAAAAAAAAAAAAAAAAAAAAAAAAAAAAAAAAAAAAAAAAAAAAAAAAAAAAAAAAAAAAAAAAAAAAAAAAAAAAAAAAAAAAAAAAAAAAAAAAAAAAAAAAAAAAAAAAAAAAAAAAAAAAAAAAAAAAAAAAAAAAAAAAAAAAAAAAAAAAAAAAAAAAAAAAAAAAAAAAAAAAAAAAAAAAAAAAAAAAAAAAAAAAAAAAAAAAAAAAAAAAAAAAAAAAAAAAAAAAAAAAAAAAAAAAAAAAAAAAAAAAAAAAAAAAAAAAAAAAAAAAAAAAAAAAAAAAAAAAAAAAAAAAAAAAAAAAAAAAAAAAAAAAAAAAAAAAAAAAAAAAAAAAAAAAAAAAAAAAAAAAAAAAAAAAAAAAAAAAAAAAAAAAAAAAAAAAAAAAAAAAAAAAAAAAAAAAAAAAAAAAAAAAAAAAAAAAAAAAAAAAAAAAAAAAAAAAAAAAAAAAAAAAAAAAAAAAAAAAAAAAAAAAAAAAAAAAAAAAAAAAAAAAAAAAAAAAAAAAAAAAAAAAAAAAAAAAAAAAAAAAAAAAAAAAAAAAAAAAAAAAAAAAAAAAAAAAAAAAAAAAAAAAAAAAAAAAAAAAAAAAAAAAAAAAAAAAAAAAAAAAAAAAAAAAAAAAAAAAAAAAAAAAAAAAAAAAAAAAAAAAAAAAAAAAAAAAAAAAAAAAAAAAAAAAAAAAAAAAAAAAAAAAAAAAAAAAAAAAAAAAAAAAAAAAAAAAAAAAAAAAAAAAAAAAAAAAAAAAAAAAAAAAAAAAAAAAAAAAAAAAAAAAAAAAAAAAAAAAAAAAAAAAAAAAAAAAAAAAAAAAAAAAAAAAAAAAAAAAAAAAAAAAAAAAAAAAAAAAAAAAAAAAAAAAAAAAAAAAAAAAAAAAAAAAAAAAAAAAAAAAAAAAAAAAAAAAAAAAAAAAAAAAAAAAAAAAAAAAAAAAAAAAAAAAAAAAAAAAAAAAAAAAAAAAAAAAAAAAAAAAAAAAAAAAAAAAAAAAAAAAAAAAAAAMjAyMzowNTowMyAxNjo1NjoyOQAyMDIzOjA1OjAzIDE2OjU2OjI5AAAASwBpAHIAYQBuAAAA/+ELGGh0dHA6Ly9ucy5hZG9iZS5jb20veGFwLzEuMC8APD94cGFja2V0IGJlZ2luPSfvu78nIGlkPSdXNU0wTXBDZWhpSHpyZVN6TlRjemtjOWQnPz4NCjx4OnhtcG1ldGEgeG1sbnM6eD0iYWRvYmU6bnM6bWV0YS8iPjxyZGY6UkRGIHhtbG5zOnJkZj0iaHR0cDovL3d3dy53My5vcmcvMTk5OS8wMi8yMi1yZGYtc3ludGF4LW5zIyI+PHJkZjpEZXNjcmlwdGlvbiByZGY6YWJvdXQ9InV1aWQ6ZmFmNWJkZDUtYmEzZC0xMWRhLWFkMzEtZDMzZDc1MTgyZjFiIiB4bWxuczpkYz0iaHR0cDovL3B1cmwub3JnL2RjL2VsZW1lbnRzLzEuMS8iLz48cmRmOkRlc2NyaXB0aW9uIHJkZjphYm91dD0idXVpZDpmYWY1YmRkNS1iYTNkLTExZGEtYWQzMS1kMzNkNzUxODJmMWIiIHhtbG5zOnhtcD0iaHR0cDovL25zLmFkb2JlLmNvbS94YXAvMS4wLyI+PHhtcDpDcmVhdGVEYXRlPjIwMjMtMDUtMDNUMTY6NTY6MjkuNjEzPC94bXA6Q3JlYXRlRGF0ZT48L3JkZjpEZXNjcmlwdGlvbj48cmRmOkRlc2NyaXB0aW9uIHJkZjphYm91dD0idXVpZDpmYWY1YmRkNS1iYTNkLTExZGEtYWQzMS1kMzNkNzUxODJmMWIiIHhtbG5zOmRjPSJodHRwOi8vcHVybC5vcmcvZGMvZWxlbWVudHMvMS4xLyI+PGRjOmNyZWF0b3I+PHJkZjpTZXEgeG1sbnM6cmRmPSJodHRwOi8vd3d3LnczLm9yZy8xOTk5LzAyLzIyLXJkZi1zeW50YXgtbnMjIj48cmRmOmxpPktpcmFuPC9yZGY6bGk+PC9yZGY6U2VxPg0KCQkJPC9kYzpjcmVhdG9yPjwvcmRmOkRlc2NyaXB0aW9uPjwvcmRmOlJERj48L3g6eG1wbWV0YT4NCiAgICAgICAgICAgICAgICAgICAgICAgICAgICAgICAgICAgICAgICAgICAgICAgICAgICAgICAgICAgICAgICAgICAgICAgICAgICAgICAgICAgICAgICAgICAgICAgICAgICAKICAgICAgICAgICAgICAgICAgICAgICAgICAgICAgICAgICAgICAgICAgICAgICAgICAgICAgICAgICAgICAgICAgICAgICAgICAgICAgICAgICAgICAgICAgICAgICAgICAgIAogICAgICAgICAgICAgICAgICAgICAgICAgICAgICAgICAgICAgICAgICAgICAgICAgICAgICAgICAgICAgICAgICAgICAgICAgICAgICAgICAgICAgICAgICAgICAgICAgICAgCiAgICAgICAgICAgICAgICAgICAgICAgICAgICAgICAgICAgICAgICAgICAgICAgICAgICAgICAgICAgICAgICAgICAgICAgICAgICAgICAgICAgICAgICAgICAgICAgICAgICAKICAgICAgICAgICAgICAgICAgICAgICAgICAgICAgICAgICAgICAgICAgICAgICAgICAgICAgICAgICAgICAgICAgICAgICAgICAgICAgICAgICAgICAgICAgICAgICAgICAgIAogICAgICAgICAgICAgICAgICAgICAgICAgICAgICAgICAgICAgICAgICAgICAgICAgICAgICAgICAgICAgICAgICAgICAgICAgICAgICAgICAgICAgICAgICAgICAgICAgICAgCiAgICAgICAgICAgICAgICAgICAgICAgICAgICAgICAgICAgICAgICAgICAgICAgICAgICAgICAgICAgICAgICAgICAgICAgICAgICAgICAgICAgICAgICAgICAgICAgICAgICAKICAgICAgICAgICAgICAgICAgICAgICAgICAgICAgICAgICAgICAgICAgICAgICAgICAgICAgICAgICAgICAgICAgICAgICAgICAgICAgICAgICAgICAgICAgICAgICAgICAgIAogICAgICAgICAgICAgICAgICAgICAgICAgICAgICAgICAgICAgICAgICAgICAgICAgICAgICAgICAgICAgICAgICAgICAgICAgICAgICAgICAgICAgICAgICAgICAgICAgICAgCiAgICAgICAgICAgICAgICAgICAgICAgICAgICAgICAgICAgICAgICAgICAgICAgICAgICAgICAgICAgICAgICAgICAgICAgICAgICAgICAgICAgICAgICAgICAgICAgICAgICAKICAgICAgICAgICAgICAgICAgICAgICAgICAgICAgICAgICAgICAgICAgICAgICAgICAgICAgICAgICAgICAgICAgICAgICAgICAgICAgICAgICAgICAgICAgICAgICAgICAgIAogICAgICAgICAgICAgICAgICAgICAgICAgICAgICAgICAgICAgICAgICAgICAgICAgICAgICAgICAgICAgICAgICAgICAgICAgICAgICAgICAgICAgICAgICAgICAgICAgICAgCiAgICAgICAgICAgICAgICAgICAgICAgICAgICAgICAgICAgICAgICAgICAgICAgICAgICAgICAgICAgICAgICAgICAgICAgICAgICAgICAgICAgICAgICAgICAgICAgICAgICAKICAgICAgICAgICAgICAgICAgICAgICAgICAgICAgICAgICAgICAgICAgICAgICAgICAgICAgICAgICAgICAgICAgICAgICAgICAgICAgICAgICAgICAgICAgICAgICAgICAgIAogICAgICAgICAgICAgICAgICAgICAgICAgICAgICAgICAgICAgICAgICAgICAgICAgICAgICAgICAgICAgICAgICAgICAgICAgICAgICAgICAgICAgICAgICAgICAgICAgICAgCiAgICAgICAgICAgICAgICAgICAgICAgICAgICAgICAgICAgICAgICAgICAgICAgICAgICAgICAgICAgICAgICAgICAgICAgICAgICAgICAgICAgICAgICAgICAgICAgICAgICAKICAgICAgICAgICAgICAgICAgICAgICAgICAgICAgICAgICAgICAgICAgICAgICAgICAgICAgICAgICAgICAgICAgICAgICAgICAgICAgICAgICAgICAgICAgICAgICAgICAgIAogICAgICAgICAgICAgICAgICAgICAgICAgICAgICAgICAgICAgICAgICAgICAgICAgICAgICAgICAgICAgICAgICAgICAgICAgICAgICAgICAgICAgICAgICAgICAgICAgICAgCiAgICAgICAgICAgICAgICAgICAgICAgICAgICAgICAgICAgICAgICAgICAgICAgICAgICAgICAgICAgICAgICAgICAgICAgICAgICAgICAgICAgICAgICAgICAgICAgICAgICAKICAgICAgICAgICAgICAgICAgICAgICAgICAgICAgICAgICAgICAgICAgICAgICAgICAgICAgICAgICAgICAgICAgICAgICAgICAgICAgICAgICAgICAgICAgICAgICAgICAgIAogICAgICAgICAgICAgICAgICAgICAgICAgICAgPD94cGFja2V0IGVuZD0ndyc/Pv/bAEMAAgEBAgEBAgICAgICAgIDBQMDAwMDBgQEAwUHBgcHBwYHBwgJCwkICAoIBwcKDQoKCwwMDAwHCQ4PDQwOCwwMDP/bAEMBAgICAwMDBgMDBgwIBwgMDAwMDAwMDAwMDAwMDAwMDAwMDAwMDAwMDAwMDAwMDAwMDAwMDAwMDAwMDAwMDAwMDP/AABEIAQICWAMBIgACEQEDEQH/xAAfAAABBQEBAQEBAQAAAAAAAAAAAQIDBAUGBwgJCgv/xAC1EAACAQMDAgQDBQUEBAAAAX0BAgMABBEFEiExQQYTUWEHInEUMoGRoQgjQrHBFVLR8CQzYnKCCQoWFxgZGiUmJygpKjQ1Njc4OTpDREVGR0hJSlNUVVZXWFlaY2RlZmdoaWpzdHV2d3h5eoOEhYaHiImKkpOUlZaXmJmaoqOkpaanqKmqsrO0tba3uLm6wsPExcbHyMnK0tPU1dbX2Nna4eLj5OXm5+jp6vHy8/T19vf4+fr/xAAfAQADAQEBAQEBAQEBAAAAAAAAAQIDBAUGBwgJCgv/xAC1EQACAQIEBAMEBwUEBAABAncAAQIDEQQFITEGEkFRB2FxEyIygQgUQpGhscEJIzNS8BVictEKFiQ04SXxFxgZGiYnKCkqNTY3ODk6Q0RFRkdISUpTVFVWV1hZWmNkZWZnaGlqc3R1dnd4eXqCg4SFhoeIiYqSk5SVlpeYmZqio6Slpqeoqaqys7S1tre4ubrCw8TFxsfIycrS09TV1tfY2dri4+Tl5ufo6ery8/T19vf4+fr/2gAMAwEAAhEDEQA/AP38ooooAKKKKACiiigAooooAKKKKACiiigAooooAKKKKACiiigAooooAKKKKACiiigAooooAKKKKAI36N+FRzSKje4qSQc/73FfPX/BTn4+69+zV+yH4i8SeG5Et9euJYNMsrtlDfYWuJAhnCnhmRdxUHjdgnIGK3wuHnXrRoU95NJerdjGvUVOm6ktlr9x9BBvmx09qfvYCv537z4w+NdTvprm68beMri4uGLyTSa1cM8pPcneOfwx6Y4qI/FPxd/0N/iz/wAHNz/8XX6WvCvF2V60fuZ8i+M6N9Kb+8/okLse1IWJ7V/O1/wtfxcCf+Ku8W/+Dm5/+Lpf+Fr+Ls/8jf4s/wDB1c//ABdV/wAQqxX/AD+j9zD/AFypf8+396P6Jd7elG5vT9a/naPxW8XDr4u8W/8Ag5uf/i/eg/Fbxd/0N3i3/wAHNz/8XR/xCrF/8/o/cxf65Uf+fb+9H9Eu9vT9aCze/wCdfztf8LW8Xf8AQ3eLP/Bzc/8AxdB+Kni4H/kbvFnXH/Iauf8A4ul/xCvFf8/o/cx/650f+fb+9H9Eu5vf86N7Z6V/O1/wtXxcf+Zu8Wf+Dm5/+Lo/4Wp4uI48X+LP/Bzc/wDxdH/EK8V/z+j9zF/rnR/59v70f0SEtg8DpQJFU81/O4/xX8XMP+Rw8Xen/IauP/i6+2P+CKn7VnjbVPj3d/DnWtc1LxD4c1TSZ9Qtl1G5a4k0yaF1z5btltjq5BUnAIBHcV5edeH2Ky/CSxftIyUd1Zo7sv4ooYqsqHK02fqeB796dUaNlj9akr4A+nCiiigAooooAKKKKACiiigAooooAKKKKACiiigAooooAKKKKACiiigAooooAKKKKACiiigAooooAKKKKACiiigAooooAKKKKACiiigAooooAKKKKACiiigAooooAKKKKACiiigAooooAKKKKACiiigAooooAKKKKAEZd2PY5r5A/wCC3Yx+wjqQ9Na07/0aa+vn5U18g/8ABbhs/sJ6nnP/ACGtOHT/AKbGvVyJpZlQb/nj+aOHMlfC1F/df5H487stQ33cZxTQPnPpn86UrxX9Xan4qdv+zZ8JbP45fGTTfDd/eXenWNzbXd3cXFsitKiW9tJOQob5cnZjJ4Fdx4e/Y2/4W7e+D5/AWuXVxpPjbTJNRsE1XTZ2vLWSK6+yyxTC1SRQivgmd9kYDDJB4ry34Y/EnWPhF42s/EOgTW9vqlisqRtPbpcRsskbRurRt8rKysQQeOa7LR/2yPiBoeqTXFrfaHHbtb2VtDpo0C1Gl6clndi8tDbWgQRQvDc/vUZRnedx3HGPms2w+cfWfaYCS5bLRvS+t9LPy69D1MJVwap2xCd7/wCRtXP7F99FD8P7WHxPpc2ueNLfUJLjTIrK6u5tOktLhoHAW3ikaRAyspcLw2M/KN1R/CH9mPTdU/ah1T4W+OtQ1jSNY0+We1EujLDPGJYYTO27zAPlaMDGOctzisXTP2vvHel2MFv9q0G+jh+3pm+0W3uZJYr2Xzri3dmGWgabEgj6K6g84rCT49eKovjNd/EL+0YW8XXksk0921qmyRpIBA/7rGwZj4xjjrWOHwucyhOnXmtYuzT1Ur6dNFbRlSnglKMqcXvr6WOv0f8AZC1n4kQ6frPhGaGTwn4gFi2l3mqSLHKZLvUo9NitpigKLcefISVBwEUsM1saF/wT08ceKdfs7PS77w/rFldWlzOdS05p7y3iltr1LG4tiqRmRpUuJEU4Xbje2cKawfhV+1bf/Cv4ZeC/CcVjNdaV4T8eWvjiZWvPL+2vbNE0Vuvy/u/uMS2WyXX5eKPEv7Z/jTxH4qur9o/Cv9k3EFzYDQJfD1pNo7QXF39rcS2uwRvMZljkaYgOzqD3IrjceI/aunR5eVXs31X+bNoyy3lvK93bYzPi5+y94m+B3gyx1jxA1lGt9ql7pSQW3mXASW0uZLaYNMqeTuEkT4Tfv2lW24NeeK2OP8iuq1v41a9r3w9m8L+XoGm6HdX51K5h0vR4LFrycNIyGVowCyx+a6oMDam1fuqoHJ9cck8da+oyuGM9j/trXPfptY8zFOi53o7eY5uc/wCyc19Yf8ETxn9vOw/7F3UR+sNfJpfG7PGeOlfWX/BFA4/bysieq+HtR/8AaNePxp/yJcR/h/VHfkH/ACMKXqfshF98/hU1Qxt8/wChqav5jR+wBRRRQAUUUUAFFFFABRRRQAUUUUAFFFFABRRRQAUUUUAFFFFABRRRQAUUUUAFFFFABRRRQAUUUUAFFFFABRRRQAUUUUAFFFFABRRRQAUUUUAFFFFABRRRQAUUUUAFFFFABRRRQAUUUUAFFFFABRRRQAUUUUAFFFFADCMu1ebftVfs7aT+1T8D9e8D6xPNa2+sRAw3UIDS2FxGweKZQeG2OoO08MMqSAcj0zHOaTYM9Peqp1JQkpwdmtUyZxUouMtmfk9e/wDBA74lw3Mkdt488CXEMbFY5JIbqB5FzwxQK4UnGSu5sHI3HrUI/wCCCPxS/wCh2+H/AOV3/wDG6/WQxY6Bab5bf3V/OvsFx9na09r96X+R4L4Zy9u/J+LPydP/AAQQ+KX/AEO3w/8Ayu//AI1R/wAOEPilj/kdPh+3cf8AH3x/5Cr9Y/Lb+6tLsI6r+VP/AIiBnf8Az9X/AICv8g/1Yy/+T8Wfk2v/AAQR+KDNj/hNvh+N3oLsn/0XXyv4Z+AmoeK/2k4/hfb6jYprEniCbw4LyRJBaefFK8Zf7u/YTGe2cHtX9BSp8+fevxF+DHy/8FarMD/oqd//AOltxX1fDPFmaYyOIdepfkpuS0W6PFzjJMJh3S9nH4pJPV7HrP8Aw4R+KQb/AJHX4f8Ap/y98f8AkKk/4cH/ABSH/M7fD/8AK74/8h1+sSpuY49TS7G9Fr5P/X7O/wDn6v8AwFf5Htf6sZf/ACfiz8nB/wAEEPiiP+Z1+H/5Xf8A8bo/4cI/FL/odfh+f/Av/wCNV+sflt/dWlEbf3RT/wBf87/5+/gv8h/6s4D+T8Wfk4v/AAQQ+KI/5nXwBn2+1/8Axuvpv/gnJ/wSzb9jbxjqPi7xJr9n4h8UXVodPtI7GBorPToGYNJhn+eSR9qgsVUKowAeWP2R5bY6LTggx0+tcGYcW5pjaLoYipeL30S/I3wuRYPD1FVpx1XmNjUjFSUYyaK+bPYCiiigAooooAKKKKACiiigAooooAKKKKACiiigAooooAKKKKACiiigAooooAKKKKACiiigAooooAKKKKACiiigAooooAKKKKACiiigAooooAKKKKAAtik3CmmRf8ik8xf8ii6AfuFG4Um5fVaNy+q/lRdALuFG4Um5fVfyo3L6r+VF0Au4UbhSbl9V/Kjcvqv5UXQC7hRuFJuX1X8qNy+q/lRdALuFG4Um5fVfyo3L6r+VF0Au4UbhSbl9V/Kjcvqv5UXQC7hRuFJuX1X8qNy+q0XQC7hRuFJ/3zQSB3Wi6AXcKNwpNy+q0bl9V/Ki6AXcKNwpNy+q/lRuX1X8qLoBwOaKbvUelHmqBRcAY/NX4ifBg/8AG2mz/wCyqX3/AKW3Fftu06s4HvX4i/BiT/jbXZ/9lSvifb/TbivuOC5WhjH/ANOmfN8Q/FQ/xo/byPiQ1ITioUkXzG5qTevrXw59ILuFG4Um5fVfyo3L6r+VAC7hRuFJuX1X8qNy+q/lRdALuFLTQwI4x+VNMiqetFwJCcUm4U1X3f8A16XcvqtF0Au4UbhSbl9V/Kjcvqv5UXQC7hRuFJuX1X8qNy+q/lRdALuFG4Um5fVfyo3L6r+VF0Au4UbhSbl9V/Kjcvqv5UXQC7hRuFJuX1X8qNy+q/lRdALuFG4Um5fVfyo3L6r+VF0Au4UbhSZX1WgsAP4aAHUU0TKT/wDWp1ABRRRQAUUUUAFFFFABRRRQAUUUUAFFFFABRRRQAUUUUAFFFFABRRRQAUUUUAFNlOEzTqbIfl/DNAHxr+2F/wAFfdF/ZE+OWq+CbzwTrWuXGk2UF7Ld293FFGwlj8wKA3OQK84T/g4M8PlN3/CsfEYHvfwegP8AWvl7/gtQdn7eXjQjjGjabj/wFIr728Nf8EcvgLqPhzTZpfDWqb5rSKRtur3AGSoJ/i9a/RPqOR4PL8NiMdTk5VU37r7fM+Ulicyr4urSw0klF9UeU/8AEQL4d/6Jj4j/APBjBR/xEEeHf+iY+I//AAYQV7Kf+CM3wB/6FrVv/Bxc/wDxVA/4Iz/AM/8AMt6t/wCDi5/+Krl+tcKf8+qn/gS/zNvq+dfzx+48a/4iCPDv/RMfEf8A4MIKB/wcD+Hj/wA0x8Rf+DCCvZP+HNHwD/6FvVv/AAcXP/xVH/Dmf4BH/mWtW/8ABxc//FUfWuFP+fVT/wACX+YvYZ1/PH7jxs/8HBHh7/omPiP/AMGEFL/xED+Hv+iY+Iv/AAYQV7J/w5o+AX/Qtat/4OLn/wCLpP8AhzP8Av8AoWdW/wDBxcf/ABVH1rhT/n1U/wDAl/mH1fOv54/ceN/8RBHh3/omPiP/AMGEFH/EQR4d/wCiY+I//BhBXsx/4Iz/AACx/wAi1q3/AIOLn/4qk/4c0fAL/oWtW/8ABxc//F0fWuFf+fVT/wACX+Y/q+df8/I/ceNf8RBHh3/omPiP/wAGEFH/ABEEeHf+iY+I/wDwYQV7Kf8AgjR8Av8AoWtW/wDBzc//ABdB/wCCNHwC/wCha1b/AMHFz/8AFUfWuFP+fVT/AMCX+YfV87/nj9x41/xED+Hv+iZeIv8AwYQUf8RA/h7/AKJl4i/8GEFeyf8ADmf4A/8AQs6t/wCDi5/+Ko/4czfAH/oWtW/8HFz/APFUvrXCv/Pmp/4Eh/V86/nj9x45/wARA3h7/omPiL/wYQUh/wCDgjw7j/kmPiP/AMGEFeyf8OZ/gD/0LOrf+Di5/wDiqD/wRo+AX/Qt6t/4OLn/AOKp/WuFf+fVT/wJf5i+r53/ADx+48cb/g4M8OxL83wy8R4wSf8AiYQdhmqVr/wcPeH7qW3VvhT4oiW6UtGzalbHOBnsa9svP+CNfwFjtZSvhnVCyoxAOsXBHQ/7VfmL/wAEvvgn4c/aV/aj8D+F/FlnJe6LfaRd3EsEc7wsXS0LKQ6kHg89a9TL8Dw3i8PWxNOnO1JXact/T7jixGIzejVhRlON56LQ+2j/AMHA/h3P/JMvEX/gwgpf+Igfw9/0THxF/wCDCCvY/wDhzT8Ayv8AyLWrfjrNyf8A2aj/AIczfAH/AKFnVv8AwcXH/wAVXlLFcK21pVP/AAJf5nZ9Xzr/AJ+R+48b/wCIgjw7/wBEx8R/+DCCg/8ABwP4ex/yTHxF/wCDCCvZf+HNHwC/6FrVv/Bxc/8AxVH/AA5n+AOf+RZ1b/wcXP8A8VT+tcK/8+qn/gS/zH9Xzr+eP3HjX/EQR4e/6Jl4j/8ABhBR/wARBHh7/omPiT/wYQV7L/w5o+AX/Qt6t/4OLn/4qkH/AARm+AP/AELerf8Ag4uf/iqPrfCv/Pmp9/8AwQ+r53/z8j9x4J45/wCC7ui+MvCeo6ba+C/G3h66vYWjh1LT9QtTc2L9pEEishI4OGUg9D1r88NG+KfiHRvipb+JodT1i18Uxaw2rNq8ccBuVleVpHuVVlMJkbex2FNm44IxX7Fn/gjN8Av+hb1b/wAHFz/8VSD/AIIyfAEjH/CNatj/ALDFx/8AFV62W8ScP4GM40KU/fVnez0+bOLFZRmmJcXVqR93Vbnhvhf/AILz+H/DWg2di3gHxnqr2UKwte32o2rXV2QMGSQoqrubqdqgZJwKv/8AEQP4ez/yTLxF/wCDCCvY/wDhzL8Av+hb1b/wc3P/AMVR/wAOZvgH/wBC1qv/AIObj/4qvJ+ucKt/wan3/wDBO1YfOl9uP3HjZ/4OBvDw/wCaZeIv/BhBR/xEEeHf+iY+Iv8AwYQV7J/w5m+AY/5lvVvw1m5/+KoH/BGj4B4/5FvVv/Bxc/8AxVH1rhX/AJ81Pv8A+CH1fO/54/ceN/8AEQP4eI/5Jj4i/wDBhBQf+Dgjw9/0TLxJ/wCDCCvZD/wRn+AP/Qs6t/4OLn/4ug/8EZvgCf8AmWtW/wDBxc//ABVH1rhT/nzU+/8A4IfV86/nj9x42f8Ag4J8PKW/4tn4k49dQgqvF/wcMeHZPs5/4Vf4k23XEf8AxMYOeCf6V7Ne/wDBGv4Bw2UzL4a1TcsTkZ1m57D/AHq/M39hn4HeG/jb+2p4R8E+IrOa88O3V9qETwJO8TlYbecx/OpDcFR35r1suwPDeNo1q9KnUSpK7u9/TU4sViM2oVIUpTjebstD7Vb/AIOB/Dv/AETLxJ/4MIKQ/wDBwR4d/wCiZeI//BhBXsa/8EaPgHKP+Ra1bHX/AJDFz/8AFU4/8EZ/gEB/yLWrev8AyGLn/wCKryfrXCv/AD5qf+Bf8E7vYZ1tzx+48aP/AAcEeHsf8kx8Rf8Agwgpf+Igfw9/0THxF/4MIK9j/wCHM/wC/wCha1b/AMHFz/8AFUf8OZ/gD/0LOrf+Di4/+Ko+tcKf8+qn3r/MX1fOv54/ceN/8RBHh3/omPiP/wAGEFH/ABEEeHj/AM0x8R/+DCCvZj/wRn+AWP8AkWtW/wDBxc//ABVJ/wAOZ/gF/wBC1q3/AIOLn/4uj61wp/z6qf8AgS/zD6vnX/PyP3Hjf/EQN4f/AOiY+Iv/AAYQUh/4OB/Dw/5pj4j/APBhBXsn/Dmf4A/9Czq3/g4uP/iqP+HM/wAAv+ha1b/wcXP/AMVR9a4U/wCfVT/wJf5i+r51/PH7jxv/AIiCPDv/AETHxH/4MIKP+Igjw7/0THxH/wCDCCvZP+HNHwC/6FvVv/Bxc/8AxVH/AA5o+AX/AELWrf8Ag4uf/i6X1rhT/n1U/wDAl/mH1fOv54/ceN/8RBHh3/omPiP/AMGEFH/EQR4d/wCiY+I//BhBXsv/AA5o+AR/5lrVv/Bxc/8AxVH/AA5n+AQP/Itat/4OLn/4qn9a4V/59VP/AAJf5j+r51/z8j9x41/xED+Hif8AkmPiL/wYQUH/AIOB/Dw/5pj4j/8ABhBXsp/4Iz/AI/8AMtat/wCDi4/+Lo/4cz/AL/oWtW/8HFz/APFUfWuFf+fVT/wJf5h9Xzv+eP3HjX/EQN4dP/NMfEn/AIMIKjvP+DhHw3ZQ72+GXiQ/Mq4GowclmCj9SPzr2hv+CNHwCH/Mt6v+Gs3P/wAVXif/AAUX/wCCZvwf+AH7GHjfxZ4a0HULXW9Gjs5LWWXU55ljZr+2QnazbSdrN1HetsPW4Xq1I0Y0ql5NLfvp3IqU85hBzc46eXY+hv2Ef+CiOm/ty6p4otdP8Man4bbwuts8hu7mOUXAmMgG3Z0x5Z+ua+lFfoK/Mj/g38BHiz4te0GmAe3zXNfprGclfevmuJMDSweZVMNQ+GL0+5M9bKMTPEYSFapuySiiivEPSCiiigAooooAKKKKACiiigAooooAKKKKACiiigAooprvgEUAOopgk49aDJn1oAfRUYfJ70/eKAFpsg+RvoaC4FNaTcrD2NAH4n/8Fqxn9u3xof8AqC6d/wCkpr9mPCAx4O0n/rwh/wDRa1+M/wDwWsO39vDxoP8AqDad/wCktfsx4OOfCGkr/wBOMP8A6AtfacTf8ijL/wDDL80fOZV/v2K9UbmKMUxH+X8aduFfFn0YuKMU0yD60qtuFAC4oxTd/wA+KdQAYoxRRQAbaTYPSlLYNNZ8D8cUAOxRio/Mz/8AWp6tkUALimsPlpxbAprNlaAKt8P9Am/3D/6Ca/Er/giJ/wAnx/Dv/sBX/wD6R1+2t6f9CmH+wx/Q1+JP/BEY4/bj+Hf/AGAtQ/8ASM19xwz/AMivMP8AAv1Pmc4/37C/4v8AI/b2BdyLUgGRTLb/AFYqQdK+HPpVcMUYozRmgYYoxTfNpwORQAbaNuaKKADFGKC20U0SAigB2KMUm7ApPMX1oAdimyjj8aPMX1odsp+NAFXVh/xLLj/ri38jX4o/8Ewuf+Cl3gb/ALCGrH/yWua/azV2/wCJVcf9cX/ka/FP/gmCc/8ABTDwP7ajqw/8l7qvuOEv9wzD/r3/AJnzWd/73hv8R+2SnDL/ALpqcrkVWRsn/gJqxvwTk18OfSihcUuKAciigAxRim7xmjeM0AOxSFM0tFADdlOxRSM+0UALijFNEuT0pxO0UAGKMU3zFo8xfWgCOUZLfUV80f8ABYH5f+CcfxKP/TCw/wDTja19LzHO78K+Z/8AgsCN/wDwTi+JXX/UWH/pxta7sr/32j/jj+aObGf7vU/wv8j5l/4N/mz4t+LX/XHTP/Q7iv01Tk1+ZX/Bv8M+L/i1/wBcdN/9DuK/TRXwa9rjT/kdVvl/6SjzeHf+RfTXl+pJRTd6nvRvUd6+XPbHUU3zF9aBLQA6im+Z8/6U6gAooooAKKKKACiiigAooooAKKKKACmyHIP4U6muOaAKt9exWaPJM6xxxgszMdqqByST0AGO/FeAa/8A8FU/2e/DesXGn3XxQ0EXVm7RyCGG4uIwwOCA8cZRuR/CT9ab/wAFVddvPDn7BHxGuLG4ktZ5bBIC8bFWKSSojrkdMqSD9TX4iRQLboqxjYi8AAdAO1ffcH8G083pTrVajiou2i/zPmc9z6eBmqcIp37n7ZH/AIK3fs5/9FS0n/wCvP8A4zTf+Ht37OZ/5qjo/wD4BXn/AMZr8UjuPr+dIBz1/wA/nX2P/EKsH/z+n+H+R8//AK5Yj+Rfiftf/wAPbf2c/wDoqOj/APgFef8Axmkk/wCCtP7OcsZX/haWk7WBB/0O8HXjr5VfiiSzcKzevt/Om72XHzNS/wCIV4O9vbS+5f5AuMq70cF+J6/+2ynhPxn+0bJqHhr4tWvxC0Pxa4iXVdWNyJtARML5V2xhDGFEbMboGZgrKRnGf0T/AGZv+ChfwF+BHwb0rw7rHx8k8aatarvvdX1S3vHkuJSBkIvk4jiXAVEHRRySSSfyOMjKv3m4HrSJMGcqHyVIDfNypxnn869rMOB6WMw1LDVqz5aaaVktfXTc4cLxFOhVnXhTV5b7n7ZH/grZ+zn/ANFS0n8bK8/+M0H/AIK2fs5/9FR0n/wCvP8A4zX4nb8j+L86XJP4+9eL/wAQrwf/AD+l9y/yO7/XPE/8+4/j/mfth/w9u/Zz/wCio6T/AOAV5/8AGaP+Ht37OY6fFHSf/AK8/wDjNfihtx/E350m5lP3j0J60f8AEKcH/wA/pfh/kEeM8R/z7X4n7+fA39qf4e/tK2F1ceBfFmleJVsSouUtnZZbfPQtG4VwDg4JGDivRIRk1+KP/BIfVbrSP2/fCK2s0kKahbXlrchTgTxeVv2t6gMAeehr9r4TsX8QK/NOKMijlOOeGhLmVk0/X/hj7DJsyljcOqzViUHIoY4FFBGRXzh6xCThPpWP4s8caT8P9Dn1TXtU0/RtMtv9bd3twsEMefVmIHNbE8fyj1zX5a/8F9/FuoXPxe8A+G2upP7Ei0ibU/spb93JcGbYJGHQsqqAM9Mn1r1siyl5ljoYRStzX17W/wAzhzLHfVMNKva9j7zP7cHwcz/yVDwP/wCDeH/4qnD9uP4O4/5Kd4H/APBtD/jX4H/Y4cr+7j9fuj/Cl+xR/wDPOP8A74FfqX/EKcP/AM/39x8W+Nqn/Ptfefvh/wANx/B3H/JTvA//AINov8ab/wANxfB3v8TvA/8A4N4v8a/BD7HH/wA8o/8AvgUNaR/884/++RR/xCmh/wA/39wf66Vf+fa+8/bn9oT9qbwL8R/hVqWm+Cvj14J8F+J3Aew1MX9vcRpIDwkqMcGNvunHIzkc8H8t/wBgHwRfeEv2prNv+Fh+F/hrF4GL2mqa1LqdtOkkTJ5ZhsyxKTmVekg4RTuODhT4YbWMj/Ux/XYOtPaGMr/q0PzZCso4717mWcDxwWGrYanWuqis7xV0edjOIvrFanVlD4H3Z+9lv+278HYY1X/haHgl9owSdXhJJ9+aeP24vg7j/kp3gf8A8G0P+Nfgf9khPSGP6bBR9ij/AOeUf/fArw/+IU0Hr7d/cj0v9dKttKa+9n74/wDDcfwd/wCineB//BtD/jSN+3D8HWP/ACU7wR/4N4v8a/A/7FGf+WUf/fAo+wQj/lnH/wB8Cj/iFND/AJ/v7g/10q/8+197P3vT9tv4OySKq/E7wOWY4GdYhGD+LV6dY6nDqlrDcW80NxbXCCSOaJw8cqnkMGHBB9a/nBaxiGB5UfzcY2juMV+rn/BBXxxqniL9mfxRot5cST6f4Z8RNBpqu5b7NFLAkrRj0UOzEKOBuNfMcVcCxyrCrFU6nMr2aa7nsZLxHLG1nRnG3VH3eh+WlqMDES1IPu1+fH1Ix2yB9a534k/FLw98IPB9xr3inWtN8P6La4Et5fTiGJCTgDJ6sTwAOSeldA+7b2r8xP8Ag4R1y6Pjf4L6KJpf7LmsPEGpS22793JcRSaVHDIR0LIk84B7eY3rXrZFlf8AaGOp4O9uZ79klc4cyxn1XDyrpXsfWw/4Kofs+j/mqXh//vif/wCN07/h6l+z7/0VLw9/3xP/APG6/D9FylLt46V+sf8AEKcJ1rS+5HxP+udfpTX4n7fn/gqf+z7/ANFR8PZ/65z/APxukP8AwVN/Z928/FLw/wD9+5//AI3X4geWzfdBbuABnFI3yNtbKtzhSQrflQ/CnCbe2l9yD/XGvvyL8T9kfjr/AMFA/gX8Wfhdq+haX8drbwjqV9F/omr6aJ1uLKUHKsAYyGU9GU8EEjg81+Zv7Lug6PoP7VMcuq/GHSfBOm+E7p55vFdhLIZNVSTcpWyzGSWkUtvLAeWD3YivHy2ASSCBwewp2cr1yuc+1e1lvA8MDQrYelWdqis7pP5/8OcGL4h+sVIVKkF7r8z9urf/AIKh/s+WUEcQ+K2hyeUoQNIJ2dscZJ8vk+9S/wDD1H9n7PHxS8O/9+7j/wCN1+IG3Hb6e9Hf7teJ/wAQpwu8q0vwO/8A1zr/APPtfift9/w9S/Z+P/NUvDv/AH7n/wDjdKv/AAVP/Z9B/wCSpeH/APvif/43X4g4/wBmgrmn/wAQpwn/AD+l9yD/AF0r/wDPtfift+P+Cp/7PrOP+Lp+HfmIAyk4/wDade2eDvGOl+O/DtnrGi6jZ6rpOoRCW2u7SUSwzqe6svBr+dMxDP8APnrX6hf8G/3iC+u/gj8RdImuGk03SfEkUtnCTkW5mtI2kVR2UsA2Om5m45r5jirgOlleD+t0qjlZpNPs9mexkvEk8biPYTglpfQ/QROlOpsY2oPpTq/OD6wKhlfYzN7VNVefgsD6UPYDzX45/tg/DT9mlrVPHXjLSfDs18N0EE5eSeVehYRxqz7fcjFeeH/grb+zn/0VLSf/AACvP/jNflz/AMFJNZvNf/bz+Js15cS3Eltqa2cJds+VDHEgWNfRRzx9e/NeK7cdzX69k/hrQxODp4irWkpSSdla2vqfCY3i6rRrypQgmk7dT9rz/wAFbv2cwP8AkqWk/wDgFef/ABqj/h7h+zr/ANFS0f8A8Abz/wCM1+J7Er3b8DTWlKn736//AFq9P/iFWD/5/S+5f5HJ/rliOlNfiftl/wAPbv2cyB/xdLSf/AG8/wDjNfPP/BRz9qz4LfthfBK40Xwv8erHQ9WhKvHYSpeR6XrYDrILe7HkHaN6KyuPusOcgmvzUWRsn5un40odgOrdc9a1wvhjhqFZVadaV4tPZdNexjU4urVYOnKCs9N32PqL/glN8VvAPwZ8d3Hjbxx8XpvA9luVU8LItyJtWeMMFkvRHEy+WhkYqit8zAseAM/oaP8AgrZ+zoD/AMlS0n/wCvP/AIzX4nBiq8NgdhmnNIc9W/OurNvD+hj8TLFVq0rvokkrKxngeKKuFpKjTpqyv1Z+2H/D2z9nM/8ANUtJ/wDAK8/+M0H/AIK2/s5j/mqWk/8AgFef/Ga/E/fx1ajk/wB7868//iFWE2daf4f5HX/rliP+fcfxP2w/4e3fs5kf8lS0n/wCvP8A4zWp4M/4Kd/APx/4ktdJ0v4neH5r++kEUCTRz2yu5OAu+SNVBJ9TX4d7T7/n/wDWqG8tY76GSGZRJGy4ZW5BFZ1PCvCKPu1pX9EEeMq7avBW+Z/SJby7nqxXkv7C+t3nij9jr4X6lqNzLfX154asZJ55W3PKxhXLE9yfWvWq/F6tJ05ypvo2vuP0KnPngpd0FFFFZlhRRRQAUUUUAFFFFABRRRQAU1/vrTqbJyaAPmn/AIK4f8o/fiF7WsH/AKPSvxSDc4r9sf8AgrPaTX//AAT/APiOsETSNHZRSsFGdqLMjMfoAMn0FfiWG5yOjdDjjnpX7l4WyX1KrHrzfoj854yv9Yh6EhOKjkcEfzp27K9Ka+5l/wD11+peZ8bue0fsYWXgnzviBqXxA8P2viHw3pPh1ZLhZIVkmshJcwwtcwEjKTRq5YFeflxXt3ij/gnZoXiL4k6b4dsWurqTQZNA0/Wbjw/LbQQz6fPbTPNqjb42/eO6RHzOVJcjYSQa+JpLZJHVmjDMjblJXlT7GoJNHtXjCm1tyNxODEuMk5P6gH8K+Vx+Q4mripYihiHC/TXtbuvP1v5Hr0cwpRpqnOCdj600j9kr4WxaZb/2kPiXcXkcPhiW7a31vT4opzrN7PZ7Y1NozKIPLWQklmYMV4wGra8QfseeG/EPwE8Kzap/bnh1fD+nXtg/jFpbOPSTKPFM1msd3D5XnSXDQOZAwkCqIxwQHr40/s+FcfuIuAcZQe2fwPf6fSmjRrXzvMFrB5nADeWN3AwOfYcfia5J8L4+UozjjJXi7637evW//Dm8c0wyg4+xifX/AMav2KPhz8FR42vLyP4qSW/g/TJ7tbKWSG1e/ZdQjtIJEnmskEkTrIJH8pCqlflkZTXyXGSMjPc98/5/z+FWDR7W1K+Xbwx7SCoWIAD0xxwR61YBwejV7eT5fXwkHGvWdSTe7v27XZ52MxFOtJezgoklNfr+Bo8ymszFunT9a9rzOI+jP+CTDf8AGwDwL9L3/wBJzX7bRngfUV+Jn/BJG1mvP+CgHgny4pJPIhvZpMKT5aCEjcfQZIGT3NftnCAzD2HNfz54lf8AI3t/dX6n6hwj/uPzZMDkUUAYFFfnx9QMm/h/3q/KH/gva2f2l/A3/Ysv/wClLV+rcrkqD6c8V+Uf/Be5GX9pLwPJtO1vDUgVscNi5OfyzX2HATX9t0k/P8jweJv+RfNeh8Mj7w+makqPp78Y69qC5z2796/pWzPyXzJD0prjccfrQZMD/wCvSO/HHX61HkI9X/Y88B6D8RPH+qabrfh+bW5LjT0h0uWXS9Q1LTNMvpZ0SOa+hsJI7gwEEpuVwqs4LcDC+nX37CPhvwJa6XfeMNeurPUNQ1gLPomkI93YrENW+xSWUd0wZtyruImlfpgfeOa+ZfD/AIl1Xwlfm60jVdV0e7aMxmfT72S0lKnqpaNgSpGOM44otfE2rWXhmTRYNY1q30WaUTSabFqEq2TyDBEhhDbC+QDvI3ZGc55r5nMMlx9XFyxGHxDgpWVvT8vM9bD5hQjRUKlNSavr9x1P7RHgfTfhn8dvF3h/R7PW9P0vSNUntba31UD7TGiuQOerL/dY8lcE81xwORUmqaxe69fSXmoXl7qF5JjfPdXLXEr4GBl3JY4HAyeAKh349OoHWvoMLTqU6MYVXzNJJvueZUqKUnJaJjqDTd9DPg//AF66Lk3B/vL9a/UL/g36Gfgd8Rf+xmj/APSWKvy7duc/L8vPWv1F/wCDfyNo/gb8QnKsI28UIFYjAYi0iyB7juO1fnniW1/ZGn8yPqOEf99v5M/QCU5Ap4ORUSHOP9kZqWv5+P1Ab/D/AJ9K/LX/AIOEh/xd74K/9gHxJ/6UaNX6kOcV+Xf/AAcJW8n/AAtP4J3G1vJbRvEsW/8AhD+forBfqVDH6KfSvruBZJZ5Qv3f/pLPD4kT/s6o/L9T4CUbRSN0NNYMH79B17035jX9LX1PyPzPXv2HfA+nfEb9oi30vUfDumeKo/7E1e6t9L1GwW/t7m4isZZIMwMCJP3qrhSCGJx6V7RpP7Lui+PtF0jT9c0nQvhf4z8QaXoI8W6Tpem28Nv4enutbe3hmjgl8w2E09qI5GgidF3EFkIZw3xzcxJdQeXIu9c5wfX1+vvUKaVarF5f2SBYjklAg2nPXj3718rm3D+IxWK+s0sRyaLRK+3ztb5bnrYPMadGn7OdPm3/ABZ9l/DL9k3w2lhbRzfDX4jaH4isfiBpunzPr91Y382mafMkwEtzAbUQyWsjIAFeMEu8Z3FVw1Ox/YD8N68bSea78bWsOpzabP8A8JBG9lHod7Le6nJay6dbRi33C5hRQ2Q7KCDmNVIr5CaxiKtmMfPw5PO/6+v40hsISB+6TCksBj7jHALD0OABkc4rn/1bx6fNHFtPTo/z5np5efzNnmmHe9K/3H2D4B/YH8G/EzxN4Zm0n/hYz+G9YNzbXscuoWjajYSQa5/ZbT/uLGQPEy/vCvlKI8EvMqgkYA/Yz8DnxT4b8Cf2r40j8deMh4gt9J1Ce8sY9FW70/UL2ztIpYfIM3782i7tsow8gCnBAHy4dNgcNmGNtwKkFRypGCp9VI4I7jitjwF4s1D4ZeMNN17Q5lsdY0mUXFrc+WrmKQKVD4bjcNxweoPNH+r+ZRbksa3potVqk7Xd3pffTUlY/DWt7FL0Nb4zeGtJ8D/FfXdE0C5vrzStHuvsUdxeOjSzSRgLK2UVV2+YG28ZwBkk8nnRyKjbczNIzMZJSXZm5LEnJJ9yTmmsCe1fWUKcoU4xm7tJXfd9zyKkouTcdESdvrX6a/8ABvsMfDH4qE/9B+0/9I0r8x+SOK/Tv/g32tJk+EnxQuGiZbaXxJbwJKfuvIllGXUeu0Ouf96vhvElr+x3/ij+Z9HwnFvME/Jn6GocrS0iDC0tfz0fqQVXm5kP0qxVedWZj09KAPwj/wCChpz+3V8VP+w6/wD6An+NeP17J/wUXtJrH9vD4pRzRPDI2s+cFcYZkeNCrAdwRyD0xXjJfBr+quHGnllBr+SP5H4rmmmMqJ/zMJCdvFez/sJeCofH/wAWtS0+fwdN4qNxpLW9tcLo1vrcfhyaSWNEv5LC4YR3EaZZWByUDlscZHi7Ekf/AFqgn0+G8KedEreWcqWHT6Ht+FdeZYOWKw08PFuPMt+3yur/AHnPhqypVVOWqT2PsOf9gTwbJ4VsNQ1LxJqbXWras1pd614ctVPhvTJf7TW2eDaYGSBfKO5DJcbg5UBCmc0vid/wTwhsvCF9/wAI3oPxH0/xpJ4fv9U0zw1q+oafc3FxLbaxDYqSYrePMT2ztc9QyBly21Sp+Rm0q1DlvssO7G3IjA4xj/I9q09X1u61vwfoegX0iT6L4bNydNtXiTZa/aZTNMRx/HISSST6dOK+Y/sHNIyjbGvR9U9tOidvl2PWjmOFa96itf67H1d45/YF8E+EvCvja8t9Y8dagNC13U9Ms7y0jS6gsPss0Cwx3my12L5scjuZWkiA/dGNH+YNJqH7CPgO/wDFd9a+HU+I2sSaNfeIdKTQ21fT/wC0vEdxprWoja2lFqqQhhPIWUo5ITIwcmvjkaTaiQH7LDmP5R+7GV56fhnGac2kWrLg28ZVscbPTpj0I9aqHDuZLfGyfyfVW/mJeZYa91QX9M+kvjD+yP4Z+Gf7Ldn4yhk8bNrd7DFNulC3GnWk7XU0UunyyRQLGk0SooLCfc8gf5FUqB87oMen4f8A6gP0FVodLt7abzI7eKN/VEC5/T2GfXA9KnT5B90/lX0GV4GthoShXqOo22030T6bs8/F1oVJXhDlVrElRucM3+0P8aduyPumo7mURRSSOQqqu5iTgADJPP616FSLs2c8U29D95v+CfH/ACY58J/+xXsf/RS17JXj/wCwJaTab+xT8K7e4hkt54/DFiHjkXaynyV6jtXsFfyTjGniKlv5n+Z+4Yb+DH0X5BRRRXKbBRRRQAUUUUAFFFFABRRRQAUxkJfNPooAzdd8PWviTTLmxvreC8s76NobiCZA8c0bAhlYHgqQTkH1r5X1r/gib8BdX1ee6j0XXtPSZy4trPWJY7eLJzhF52j2BwK+usUbQe1dWFx2Jwrbw9Rxv2djGthqVX+JFP1R8e/8OPfgRj/jy8Vf+DuT/Cj/AIcffAj/AJ8/Fn/g7lr7C20Yru/1gzL/AJ/y/wDAmc/9l4T/AJ9r7kfHp/4IefAj/ny8Vf8Ag8l/wpP+HHvwIH/Ll4r/APB3J/hX2HtpNop/6xZn/wA/5/8AgTD+y8J/z7X3I/Bv/gp1+zv4d/ZY/aV1zwv4QOqWuk6fotrexRz3rTN5jxuzEswzyQvHt71+hfgn/gip8Ddc8H6PeTWPij7ReWUE8pXWpACzIrHt6mvi/wD4Lj8/tseKP+xasv8A0TJX7DfDD/knvh3/ALBdt/6KWvseIM3xtLKcDVp1ZKUk7u7u/U8DLcDQnjsRCUVZNW0PmEf8EPPgQR/x5eKv/B3JQf8Agh58B8f8eXir/wAHclfYW2jFfG/6w5n/AM/5/ez3f7Lwn/PuP3Hx7/w48+A//Pn4r/8AB3J/hSH/AIId/Ajb/wAefiv8Nbk/wr7DxRto/wBYcz/5/wAv/AmP+y8J/wA+4/ceL/sy/sHfDX9kSS8uPBWhta6lqCCK41C7na5u3jBzsDtyq55wuASBnNex20bIOe4qQqDSgYFeZWr1K03UqycpPq3c66dKFOPLBWXkFB6UUVkaELJuWvH/ANr39h7wT+2l4StNN8WQ3kN5pchm0/U7CUQ3lix4YK2CCjcZVgQcDvzXsxGaQKBW1GvUozVSk7NdUZ1KMKkXCaumfAn/AA4A8An/AJn7xz/5L/8AxFL/AMQ/3gAj/kfvHX52/wD8RX33ijGK9z/WzOP+giX4f5Hn/wBi4H/n0vuPgT/iH8+H/wD0Pvjn/wAl/wD4il/4h/fh/n/kffHX/kv/APEV99UUf62Zv/z/AJfh/kP+xsF/z6R8C/8AEP8AfD/H/I/eOv8AyX/+IpG/4N/vh+R/yP3jr87f/wCIr77o25pf62Zv/wA/5fh/kL+xcD/z6X3HwKP+Df34fj/mfPHX52//AMRR/wAQ/vgD/offHX/kv/8AEV99YzRR/rZm/wDz/l/XyD+xcD/z7R8C/wDEP94A/wCh98df+S//AMRSH/g3++H/AP0Pvjr87f8A+Ir77pNoprizN/8An/L8A/sXA/8APtHwLH/wQA+HqyLu8eePDHn5gj26sR7HZx9a+vf2ev2dvC/7MfwxsPCPg+xax0fT2aQb38ya5lbl5ZXPLux6k+gHQCu+2igDFefjs4x2NioYmq5Ja6s6MPl+GoPmpQSZGkeB+GKkoorzTsI5RvGPevOf2jf2WPBv7VvgEeHfG2lrqdnHKLi3lRzDc2UoyPMikXlGxxxwRwQa9KxSbBV0ak6U1UptqS2aJnTjOLjJXTPiYf8ABBb4JgY/tL4jfjr/AP8Aa6G/4IK/BIn/AJCPxG/8H/8A9rr7axijFev/AKxZp/0ET+9nD/ZOD/59r7j4lP8AwQW+Cef+Qj8Rf/B//wDa6aP+CC/wSH/MS+Iw/wC4/wD/AGuvtzFGKP8AWLNP+f8AP72H9k4P/n2vuPiQ/wDBBb4JH/mJfEb/AMH/AP8Aa6U/8EF/gkP+Yl8Rv/B//wDa6+2qMUf6xZp/z/n97D+ycH/z7X3HxKP+CC/wTz/yEviN/wCD/wD+10n/AA4X+CY/5iXxG/8AB9/9rr7bxRij/WLNP+f8/wDwJi/snB/8+19x8S/8OGPgl/0EviN/4P8A/wC10f8ADhb4Jf8AQR+I3/g//wDtdfbW0elGKP8AWLNP+f8AP/wJj/snB/8APuP3HxKv/BBr4JK3/IR+IjD0bX+D/wCQ6+pPgn8CfDP7PHgCz8L+ENLg0nRbHLLCmWaV25aR3Jy7seSxyTXa7RS7cVyYrNMZiYqGIqyklsm7m1DA4ei70oJPyQijC0tFFcB1BUMse48NU1JtFAHhf7Sv/BPP4W/tZa3b6p4w0GR9Yt0EK6jY3DWty8Y6I7KfnA7ZBx2rzEf8EPPgOP8Alz8Vf+DuX/CvsPbRtHpXpUM5x1CCp0a0oxWyTaOSpgMNOXNOCb9D49/4cd/Af/ny8Vf+DuX/AAoP/BDz4D/8+fiv/wAHcn+FfYWKMVt/rDmf/P8An/4EyP7Lwn/PtfcfHZ/4IefAcH/jy8Vf+DuX/CvH/wBvX/glN8JP2e/2QfHXjLw3a+Iodc0Wyils5J9WklSNmnij+6eD8rN19Sa/SB+P++q+cv8AgrIM/wDBO34nf9g+D/0rgrsy3iDMpYunGVeTTlHq+6OfE5bhVRm1TWifTyPzz/4JNfsT+B/2wPGPjyy8bLrV3D4ftLGez+z6g0JVpXuFfJUcjCKPwr7ZH/BD/wCA7Z/0HxV9f7bk/wAK8B/4N+ePiP8AFj/sH6Z/6Muq/UCMdeK9ri7OcfRzatSpVpRiraJtLZHnZDgMNUwUJzppt36eZ8ff8OPfgP8A8+Xir/wdy/4Uo/4IffAj/ny8Vf8Ag7k/wr7B2gdhS4r5n/WDM/8An/P/AMCZ7H9l4T/n2vuPj7/hx98B8f8AHl4q/wDB3JV/wn/wRe+A3hbxDa6g2garq32WQSi21LVJLi1kZTkb4zgMPY8V9ZYpNo9KmWfZjJcsq8rf4mP+zMJv7OP3Fe0tFtY1VVVUUBVVRgKBwAB6CrNGKK8k7gooooAKKKKACiiigAooooAKKKKACjNFNY4NAC7hmlqJ3x3/AApBNntSAmoqMuKTf9aYEucUbuah8zHb9abJOqRljnjk4GfegD8Xf+C5Z/4za8Vf9i1Z/wDoqSv2G+F5z8OvDv8A2DLb/wBFLX4s/wDBXL4oaD8cP2ufFeqeFdSj1exXRrbT2kjR1MdxHHIskTBgCGU8EY4Nfr9+y38afDHxw+DOj6x4T1aHWdLtoY7BrqFGEZnijVZFUsBu2t8pIyMgjOQa+84mpzWS5e2n8L/M+ayuUXmGJ16nplFRlqTdXwZ9KS0VD5n1pVlBFAEpaio9+WxTo23CgB1FFFABRRRQAUUUUAFFFFABRRRQAUUUUAFFFFABRRRQAUUUUAFFFFABRRRQAUUUUAFFFFABRRRQAUUUUAFFFDHAoAM0ZqN5MH1pvnY7frQBNmjNQ+fn/wDXR5/+c0ATZoqHzh/k0vng/wAP60rjsS0VCZs/w/rR5me360wsOkPP45r5z/4Kxn/jXb8T/wDsHwf+lUFfRRbJr5R/4LD/ABX0DwV+xF4u8P6pqUdnq3i21W30iB42P26WO4hkaNWA27ggLYJBIU+ld2UpyxtJLX3o/mjmxjUaE2+z/I+cP+Dfls/Ej4sf9g7TP/Rt1X6fof5/0r8m/wDghh8X/Dfw5+OHjHQ9Y1OGz1fxhb2Fpotrsd5L+SN7lpAgUH7qncScADk1+sSyYJ+uOte9xwpLOq112/8ASUeXw408BBrz/MmzRUfnf7P601pRnp+tfJXPdsTUVD5w/wAmjzM/w/rTAmozUPmj/Jo87P8A+ugLExNGai8//OaQS8//AF6VxEwOaKakqtTs80wCiiigAooooAKKKKACo3GWqSmykgUAeD/8FDP2ptW/Y4/ZxuPGmi6TYa1fx6nZaetteStHEVnlCFsrzkA5wK+H/wDh/h8SBj/i3vg3kZH+l3NfUv8AwWs0i21X/gnx4uF1b29wkN3p8yLKgcI63KYbnuK+fv8AgjJ+x/8ACv42fs+eJ9Q8X/Dvwh4kvrXxJLBFcahpkU8iRiKMhQSOgJPHvX3mR4fK6OUzx+Oo+0any72eq9T5nMKuMnjo4fDz5U43ObH/AAXu+JGf+Sd+D/8AwKuacf8Agvb8Scf8k98H/wDgTc19wf8ADtj9n3P/ACRn4c/+COH/AOJp3/DtX9n3/ojPw6/8EUP/AMTVf21w1/0BP/wL/gi/s/NlviF9x8Oj/gvf8Ss/8k98H/jc3X+FNf8A4L2fEg9fh34Nxjp9puv8K+5P+Haf7Pp/5oz8O/8AwRw/4Un/AA7U/Z/H/NGfh1/4I4f8KP7a4a/6An/4F/wR/wBn5t/0EL7j8f8A9qL9pCH9qL4s6f4v1D4eaD4fv5Jc6/Hpd5cRR+Ioht2iQ8GKQAOplT5mV8E/KpH0R4L/AOC3HjD4ceE9N0DQPhZ4D0nRdHt1tbOztZ7iOG2iThVUD09e5zX3wf8Agmp+z9j/AJIz8O//AARw/wCFJ/w7U/Z//wCiM/Dn/wAEcP8AhXZX4oyKtShRq4WTjDZOW34mFPJ8yhN1IV43e+h8Pf8AD+34kZ/5J34P/wDAm6pT/wAF7viSR/yTzwf+NzdV9wL/AME1P2fT/wA0Z+HP/gjh/wDiacP+Ca37P3/RGPhz/wCCKD/4muP+2eGv+gJ/+Bf8E3/s/Nv+ghfcfDn/AA/t+JH/AETzwd/4FXVJ/wAP7viQT/yTvwfn/r6uq+4/+Haf7P8A/wBEZ+Hf/gkh/wAKVf8Agmt+z7uz/wAKa+HXA4zokB/pS/tnhpP/AHF/f/wQ/s/Nkv8AeF9x4H+wF/wVY8Xftc/tIReCdb8JeHdHs5tLub83NlcSvKrRbMLtbjB3n8q+7ISW/Q1+QP8AwR08OaboX/BSzXoLGws7GGzstahhjghWNY0F0qhQAOgAAr9fo+efxryOLsHh8Lj+TCx5YOKaXqd2SYirVw3NWd2m1f0JEOVz6n8qdTY246cCl3c96+ZPYFooooAKKKKACiiigAooooAKKKKACiiigAooooAKKKKACiiigAooooAKKKKACiiigAooooAKKKKACmyruX8adQelAH5p/Gj/AILeeMfhj8Y/Fnhu0+H/AIfurXw9rFzpsU81/OskqxSFAzADAY4ziud/4f5ePAxX/hW/hncpwR9vuOP/AB2vHf2l/hf4b1f/AILNaxo91oemzaTqXjbTI7qzeLNvcrNa27TB0ztYOzMzAj5iTmv06f8A4Jrfs/NI3/Fmfhvyeg0KBcfgFx+Ar9MxUciy/D4d4jDOcqkFK6l/wT4/DvMcTVqezrKKjJrVHxMf+C+vjsH/AJJx4Z/8D7j/AOJpf+H+njv/AKJv4Z/8Drn/AOJr7Y/4drfs+j/mjPw6/wDBHD/8TSf8O1v2ff8AojPw5/8ABHD/APE156zjhr/oDl/4F/wTr+pZr/0EL7j4o/4f6ePP+ib+Gv8AwOuf/iaP+H+vjwf8038M/wDgdc//ABNfa5/4Jq/s+n/mjPw5/wDBHD/8TSf8O1f2fv8AojPw7/DQof8A4mq/tjhv/oCl/wCBf8Ef1DNntiF9x8UH/gvr48/6Jx4Z/wDA+5/+Jpf+H+njz/onHhn/AMDrn/4mvtcf8E1v2fv+iN/Dv/wRw/4Uv/DtT9n0/wDNGvh3/wCCKH/Cj+2OG/8AoCl/4F/wQ/s/N/8AoIX3HxP/AMP9PHn/AETfwz/4H3P/AMTXIfGz/gsBfftFfDvUPCvjT4QeFda0DUtvnQ/2ncxzRspBV4pAu6ORSMqy4IPPcg/oOP8Agmn+z6f+aM/Dn8dCh/8AiadF/wAE1f2fkmVh8G/h18pyP+JHD/8AE4op53w7CXNDByTWt+b/AIJMsuzWScXXX3H5O/sTftnyfsTC81Kx+H2h+KPFl7ugl17ULqVJo7fqsUaIuyLOGZimC5PPAAH0MP8Agvr47z/yTjwx7f6fcf8AxNeG/wDBGT4D+Cfjd+1Ouk+L/Cfh/wASab/wit5ci21CxSaMSrNagPgjqASPxNfqUP8Agmt+z9nn4N/Dr/wSQ/8AxNe9xJjsjw+OccVhpTnJJ35u621Z5uU4fMatDmo1VFJtWa89z4o/4f6+O/8Aom/hn/wPuP8A4mg/8F9fHeP+Sb+Gf/A+4/8Aia+2P+Ha37Pn/RGfhz/4Iof/AIml/wCHa37PoPHwa+Hf/gjhH/steD/bHDX/AEBS/wDAv+Cel9Rzb/oIX3HxKf8Agvr48H/NOPDH/gfcf/E07/h/p47/AOib+Gf/AAPuf/ia+1z/AME1/wBn/wD6Iz8O/wDwSQ//ABNKP+Cav7PuP+SNfDn/AMEUP/xNL+2OGv8AoCl/4F/wQ+o5rb/eF9x8Tf8AD/Tx5/0Tfwz/AOB1z/8AE0H/AIL7ePAP+Sb+Gf8AwPuP/ia+1/8Ah2p+z7/0Rn4df+CKH/4mnD/gmt+z+D/yRr4d/wDgjh/wpf21w1/0By/8C/4IfUc1v/vC+4+Jf+H+/jsj/knHhj/wYXH/AMTUdz/wX48dQ2ryf8K38LnYCx/0+444J/u+1fb4/wCCa/7P+P8Akjfw7xn/AKAsP/xNfBH/AAW+/Za+G3wMsfh6fB3gPwr4aOonUFujp+nRw+eFiXaG2gZxXdlmI4ex+JjhKeEcXLq5baepz4ylmmHoutKunby8z9P/AIL+OZfib8JPC/iSe3Szn1/S7fUJIEYssLSxq5UE8kDOBmupQfPXl/7FqBP2Sfhjt+VV8L6eOn/TBK9RRevtxX53iIqNWUI7Jv8AM+qoycqcZPqkPooorE0CiiigBpbmhmwOvNecftOftI+H/wBlP4Nap448TyXH9maa0UKQWyb7i8nlkWKGGNc/eZ2UcnAGSeAa+Ov+IgLwuDn/AIVz4k4Pa9hP54+hr1cuyPH46LnhKTklu0cWKzLDYaXLWnZs/Qrc1IWOOa/PZv8Ag4E8Lt/zTnxJ+N7DSf8AEQD4X/6Jz4k/8DYa9H/U3Ot/YP8AA5f7ewH/AD8R6f8A8FrPGelaZ+w54i0W41Kwg1bVZbWSyspJ1S4vFjuYvMMaE5bbkE46Z5rz/wD4IL+M9Kh+BvirQ21LT11qbxFNdJYGdRctD5UQ8wR53Fc8ZxivHf2uv+CoHwn/AGy/hk3h3xR8L/Ei3FqxuNL1SK6gF3pFxjAkibHQ4AZT8rLwR0rmf2HP+CgXwt/Yk8GSxWPw78Qa54s1UA6v4gmmgSW5I6RRr/yyhXsg6nJJJr6ankOYrI54F0Je0c1Lpa1vU8eeZYb+0ViPaLlUbdT9gk59qkMmBX55n/g4B8L/APROfEn/AIGw01v+DgLwv0/4Vz4l/wDA2GvmVwbnPTDy/A9n+3cB/wA/F+J+h3mD+9QZQDX55j/g4B8LkD/i3PiTr/z+Q19Vfseftj+GP20fhlJ4k8Nw31i1ndGxvrK8AE1pMADtJBIYFSCGU4NcGYZBmGCh7TFUnGPdnRhczwuIly0Z3Z7J94UDgU2M5WiU4X8a8g7hPNoLZ/ir5S+Of/BX/wCEvwI+Jeo+E7yXXtZ1TRZjbX7aXZedBbTAAmIuSAWXIBA6HjPWuRP/AAXd+D6j/kFeOP8AwWr/APFV61HIMyqwVSnRk09b2ZxSzPCRdpVEmvM+3C3HX9KrlsMFXnP6V8Vj/gu58H/+gV44/wDBav8A8VWL8Q/+C0HwR+JvgrVPD+o6b8RorHWLZrWZ7KBrS5RW43RyxyK8bqcEMpBBAraPDWaX1oS+4iWbYO38RfeeA/8ABIuNh/wU28UfKw222ucf9vYr9bomyMcdOtfhp+yd8QfhT8Df2lbzxV4g1v4j6loeiTmTQ0soXtrzVi53H7c6SglVOAUyRK3zHAwK+8x/wXa+Dysf+JT44/DTR/8AFV9JxZkmNxWNjUw1KUkoRW3ZanjZJmGGpUHTqTindvfuz7dU4/A0vmV8RD/gu98H/wDoE+OP/Bcv/wAXQf8Agu/8HwP+QT44/wDBcv8A8XXzf+rOa/8APiX3Hs/2rhP+fi+8+3RJmjfXyz+zz/wVp+FP7RvxKsvCOnSa5o+taoStimp2Zhju3C7jGrhiA5AOAcZxxX1BEw79f615eKwdfDT9niIOMuzOqjiKdZc1J3XkWAciikXgUtc5sFFFFABRRRQAUUUUAFFFFABRRRQAUUUUAFFFFABRRRQAUUUUAFFFFABSF9tKahmkKhj2/wAigPUk3570u6vl79o//grB8Kv2Z/iZceEtWm1zVNa08A36aZZ+dHZMVDCN3JALkEHA5A64rgv+H7vweH/MJ8df+C0f/FV61DIcxrQVSnRk09nY4Z5lhYS5Z1EmfbpJJ/8Ar1HJPsU7iOOcnpXxOf8Agu78Hx/zCfHH/gtHH/j9RXH/AAXT+Dd3G6SaL42kjkBR0bTFIcEYII3dCK1/1bzX/nxL7mT/AGtg/wDn6vvPkr9oS6jn/wCC2t1KskLRnxvo7Bw428Wlrk56fyr9kIbmO4G9GWRGGVZTlWHsa/C/x0/7PPiT9pT+2rGbx5YfDTUJDfahoS2B+2RzZB8iCfzNywv15JdBlVOCMfdmgf8ABbz4JeEtEs9M03w/4zs7CwhW3toItLVUhjUbVUDf2AxX1PEeVYzE0cKsPRm3CCT93qeHlGOoUqlZ1KkbSk2tT7oD+9O3Z7iviMf8F3Pg+R/yCfHH/guX/wCLo/4fu/B8H/kE+OP/AAWr/wDF18t/q3mr/wCYeX3M93+1sHa/tF959thsUuea+Svgx/wWM+EPxl+I+l+GIX8RaJfazcLaWc2p2Pl20kzcJEZASFZjhQTwSQM5Ir6qvb6PT4HmmmSKGFDJJI7bVjUckk9AAM5J9K87F4HEYWfs8TBxfmjpo4ilWXNSlzehaLY9qTf7/rXwl4m/4L1/DXTPEN5a6Z4X8X65YW8hjhv41ihS7A4LqjsGCk9MgE9cAEVQ/wCH/ngP/oQfGn/fy3/+Lr1KfC+bVIqcaEmn5HFLOsDF8sqiuffnH+9VXUdbtdGgM15cW9nbq6oZZpBGgJOFGTxkkgD1J+lfBo/4L+eBP+hD8af9/Lf/AOKrF+In/Bbb4TfFrwTqnhvxJ8LvE2t6DrUDW19Y3X2eSG4RhjBG7twQRgqQCCCK0XCOb31oS/r5kf25gbaVEfPP/BCnV7PQv2v4pr26t7OOTwlexo88qxq7Ge02gZIyT6Dmv2ZRvm+bjvzX4c/stfFn4F/s8/HC48W6r4V8ceMrHR7gSeErC/W2YaSCmPNuDuxcTJnajkADhsF/mH2aP+C/PgJSf+KD8ac858y3/wDiq+l4ryXMMfjViMNQly8sVqrbLXqeRkmZYXD0PZ1aivds+/Ny/wB6nBgP4q+Af+H/AF4C/wChD8Z/9/Lf/wCLoP8AwX78B/8AQh+Mv+/lv/8AFV81/qlm/wDz4kez/bmA/wCfiPv4fOaCdtfL/wCx3/wVJ8C/th+PbjwtptjrXhzxAtu13a2upKhW/jT/AFnlupILJkEqeccjIBr1f9pD9qPwf+yn4EbxH401KSxsJJltbeOGIzT3czDISNF5ZsAk9gBzXkVsvxNKv9WqQan2tqdlPFUalP20JJx7npBZfWk8z3r4zH/Bc34IgYx405/6grf40H/guV8Dx/D4z/8ABM3/AMVXf/q7mf8Az4n9zOf+1cH/AM/F959lOcNX5rf8HCakab8Meu3OpfN7+Utevt/wXM+COPu+NOv/AEBm/wAa+Mv+Clv7Rfwn/a41rTfFHhHXfG9tr1u6W11pup2kz6bJExCtcRIXKxSIvzMqgCQLg88173C+S47DZnSq16MoxV9eXyPLzjMMNUwk4U6ibduvmfqV+xjuX9kj4ZL8w/4pjTzkjr/o6V6ej479ea/Ov9lL/gp18Bf2VfgzpXhGz1X4la81ig+0X2o2E08k8hwDsDORHEMYSNcKoGOvNekn/guX8ER/D40/8Erf415GL4ezKVecoUJtNvo+53YfM8IqaTqK6S6n2b5w9vzoMtfGX/D8/wCCB/h8af8AglP+NIf+C5nwQz93xkPf+xm4/wDHq5/9XM0/58T+5m39qYP/AJ+L7z7ODj+9RXF/BP42eHf2g/hnpfi/wpqMeqaDrEbPbThSrBkdo5EZTyro6srKejKR6UV5EoOL5Z6NdD0KfvrmjsfMH/Bdn5v2HYMc48XaR/6NNfkaP06Yr9e/+C5ej3OofsH3VzbwSzW+leJNJvbxkUt5EIuApkb0UM65PYe1fj/9sjx/rI2X/eFfu3hjUgsskr6836I/NeMYy+tre3KiTkH+Lb3I4wP8/WvatH/Yr1Dxlovhu+0zxR4Z0uz1TQtD1K/ufEV5JaRQXWrTzW1rbxeVHJv3zRpGN2CDNuPyhiPEBdR55eP1GGrtYf2lPFlt4etNLXWLf7DYxaPBBGbWAYTSrk3ViCduSEmZmPOX4DccV9dnH12ag8BOMWm73109DwsD9XXN9Zi32PQT+wf4gvv+ETtNN1/Qb3XNe0/U9Q1SwSG8nbREsLl4LhtsFs7zKHUR7Y1aRpGAVCnzhlx/wT4+IFhpetTXF34UhuNHupbRLQ3Vy02olHhTMLLAYl3tcRKqTPG53MWVQpI5iw/bE8dQPZn+1tJumtW1AgXGkWs3nR38jyXUEmVy8LyO7+UcqGII27RXU2f7c0tn8B5vBlz4Vsftyz3N7bX1rfQ2Vla3ksqSx3iWaWpaOaDYojEc6xnlmXJIPz1SpxJR5WpRkr6tW77620tY74/2bLo1/kHib/gn1418FX2pLrWueCdFsNF06TU9R1DUrm9sra2SO4Fs6YltVldvOZFRlQxy7lKOwNeHo3GWH1P59Pz/AJemK7bxf+054o8eHXvt11oVufFNmLLVzY6Pa2bain2lLrdIY1BMhlRW3jB4I6EiuENyn/PRPxYcf419Fk316NN/2hON9NF+J5+MjQ5l9XTt1JcYJ+nA9K/Tr/g39H/Fs/iT/wBhu3H/AJL1+YBuIz/y0j/77FfqL/wQB0y4g+DHj7UGhkWzvtejS3mI+ScpAA+098E4yO9fOeI9aP8AY7V/tL8z1+FISWNTa6M/QheBTZP4frSp92kk/h+tfz2fqKP52fjO3/F9viE2Mf8AFYa3/wCnK5/wrAHPPvXR/HKzmsvj58SLeaJ4Z4vGOtb43GGTdqE7jI91ZT9CDXOhtor+tMpkngqTX8q/I/EcdFvEzv3Y1T83936c17z8Of2Hv+E10v4Z3VxrniK2h+JFtPcJPF4YlbTdPEUd43ktfmTymuCbMnyioJRs8ba8GYYB+v8An/PNei+GP2ofFHhLxD4E1K1Ni3/CudOm0vS7aXzns5Y5ftIMk0QlUNKBdyYddpGF9MHjzqjj5xgsBJRevNtrpotfM0wDoRb+sRvtb79fwKkv7L/jrTvD1lql1pOmafZ3TWySNdeINOgbTftMbS25vVacG0WWNGZGuAgbp1IB0vFf7Ivi7wN8OfEHiLWpfDunx+HrmzgktF1yzmmvY7qHz4Z7cxynzo2UjaEBZ/nKghGxuaV+3Z4u0aexuIdF8GtfxtZNqV4dOlafXvscDQWwuT52F8tHODAImLBW3ZXFZvxM/a+8SfF3R/Eljrmk+Gbi38SQ6fEzCC5aSwexjMUE0LtOzeZ5ZKs0hk3Zzgda8mjW4gc4+1jBRur7Xtdefa7/AODod0ll/K5QvfoeUqcvj+7x9ac3C0xQVPTjt7f5/wAk0jnKAfjX2ClY8OzPSv2NRn9sf4SY/h8XWPX/AHjX77p/x8/ia/Ar9jCKSf8AbK+EsccbSSf8JZZPtXk7QSSfwHNfvtE2+SvwnxSknmNNr+X9T9I4N0w0vUsDiikXgUtfmZ9gFFFFABRRRQAUUUUAFFFFABRRRQAUUUUAFFFFABRRRQAUUUUAFFFFAAelRSHc3qMj+lSnpULjywN3+elID8Df22x/xmZ8VP8AsZrv+Yry8DA969S/bltpLH9tL4qRyxtG3/CSXLkMMEK20qfoRyD3FeWufw/Gv6tyGSll1Hlf2Y/kj8VzKMvrdS66jZZPKRj/ABYOASB046mvefFn7B+qaL4yl0Cz8S2jX1n4fuPEM93rFsmj6XewxRRSb7C8lm8q7ibzSrSBl8sx5kVVOa8ITJBG78xn8/8A9VewWn7Z2vaXp+l6Xp/hXwHp3hvTbfUoG0KCyuhY3Zv4kjuXbdcNIhKou1I3RFOflPBrlzyOac9N5dbS/Ne1vL+tu5eA+q+8sTfpaw3T/wBirxu+hSSXuleTqN5aWFzo9nbarpl19sW8lRIGnAufMgSQOuxih3EEEAAmqo/Yl+Jya5FpraDpEMsqRlZ5fEumLZB5Lr7FHbm5E5h+0NdEQrAGLmTCgdxJov7Y/izQ/Gs2vW9j4bW8ls9GsCn2STy/K0pka148zOTsUNkkEDgDpXdfs4/t7r8NNM1PT/E2myfZZ1C2s2kWAmdUk1F725iZXuYWVnLlY5kkzDgMUkI58vEVuIaNN1LRltor/grrbr3O2nTy+bSd1buz511jSLjw9rF5Y3QjF3p87206xzJMiyIxVgHQlGAYEZUkHHBquH+X3q3rt3aX2v6hcafZzafp9xcyS2lrNcG4ktomYlY2kIBdgCAWPJI79aqOa+ww8pOmpSVnbX1PDnFKTUdjc+GS/wDF1fCTeniDTP8A0ugr+gD4yc/CLxV/2BrzP/fh6/AH4VW8l18XvBsMKPJNN4j0tI0Vfmcm9hAAHev6AvirYTar8M/ElpbRNcXF1pV1DDEnLSu0LhVHuSQPxr8X8UJL67h12T/M/QOD1JYepfy/I/nX0vnTIf8ArmtWPLx/FVXTpVhtI43KpJEPLdWOGRlyCpHqDwferBuIz/FH09a/ZsPXi6UWn0X5HwdanJVJXXVjiMn5mrp7b4cR3P7OXjTx8b5opPCOp6fp62hjBW4Fyk7ly2cjb5AAA67jXKPcx44kj/76FdZ4G+OGreAPAniHwzax+HL/AEPxQ0Umo2mqaZFfK7xK6xuhc/I6rLJhhjBYcd65MylXlRX1VrmUk9Xa8b6q+u6NMLGnz2qp21/4B6t43/YF1zw18UpNL/tjQdD8PT+Jrbwxa3Wsag8l3JPLHbMxHk25hBX7Uh2u8TMN21XCsw8a+I/gr/hXHxB1rQDqml61/Yt9LZm906VpLa42ORlSyqQRjDLj5WBGSME9tq37afjzWJPEFxJqGhxX3iq+sr/Vb+DTIori8ks3gltgeSoVZLaFsAbuCN2CRXBePfHU/wARvGuqa9frpcF9rFw1zcLY26W0BdjklY1OF3Eljjua8rJv7VVX/hQlHktZWa3Vtfz6nRjPqrpr2CfNfqUQME+9Ndqb9sh/56R/99Cmm6iJ/wBZH/30K+k9ou6PP5X2Pp3/AII9HH/BQjwb/s2ep/8ApI9fS/8AwcBj/ih/hmcf8xO7x/35Wvmv/gjVaS6p/wAFAvDMlvG88en6bqNxdMg3C3Q27Rhnx90F2VQT1JAr6V/4OA1b/hX3w1m2t5K6rdRl8fLuMIwM+pwfyNfj+bVIPjGi7rZfkz7nAxmsinG3f80fmUhyv5Z+vehuPpSqmBz+tKwDV+xuR8Jy32PSP2ffgXofxrs/ET6h44XwrN4Z06bWZ4m0GfUvOs4VDTSB43Ub1yAI+pzxxVWw/Zg8c65fRw6X4fm1FboWMlpILm2h+1xXzsllIFaX5fNKnCk5T+Lbwaw/hz8TdS+GB17+z4bOb/hJNFutDujcqzeXBcAB2Taw+cYGCcj2r1j4T/t1ah4QvPB1pq3hzQX0vQLnShqGo2drL/a+oW2nNI1vGS0/k8GQg4Vdw7g18tj/AO16NWdTDWnF7JtaafJ7+Z62HWFnGKq3i+66mJafsReOLbw94mk1LS7iDXdJj0Z9I0yynttQTXTqF/NZBUnhkeING8LBhu4IIOAM1554/wDhnrnwv1O1tdcs7eFr+3+22c1pf29/aXsO9ozJFcW7vC4WSN0ID5DKQwBr1VP2+vFXh6/2+GND8I+GdKs3sTp1jaWUrR2X2TUJr9WG+ZmLTTTv5gYsNuAu0jNee/G34z6j8cvFsOrahaR2L28H2ZIo9QvL1QDI0jHfdTSuuWcjapCgKuOlZ5TVzt4lPHRjyO97WutFZb/5+o8VTwPK/YX5l/TOS7fdpGyWHbNIGx2Pr1o5Zu/tX1v3Hkcsj9dP+CEw/wCMF5/+xt1ft/02FFP/AOCE9vJF+wh5jo6R3HirWJImI4kUXJQkHuNysPqp9KK/lDiSzzOu1/NL8z9myuL+p0rr7KPsLUdHt9a0+a0u4Le6tbhDHLBKgkjlUjBVlOQQfQivPB+xd8Iy3zfDD4fnuf8AiQ23/wARXp4G00o+U151OtUh8Emvmd8qcJfEr+p5iP2LvhD/ANEv8Af+CG2/+IoP7F3whJ4+F/gD/wAENt/8RXqFRuMt6cVr9cr/APPx/eyPq9L+Vfcj4c/4K4/swfDfwL+wn4t1DRfAfg/R9Qjls1S6stJht5kBuEBw6KGGQSOD0rhf+CIX7OvgH4ifs4eKZ9f8F+FdcuLbxLLDFNqGmxXUkaCKMhQ0gYgZJOAepNe3/wDBZ67iT9gLxfC0kaytNZME3AOwF1GCQO/P868//wCCCl5HD+zb4uhMkfmt4pmIQvhiPIhycdfb2r7KjiKv+rU58zv7Ra3fZdT5+pSprNlGyty7H1EP2MPhCP8Aml/w/wD/AAQ23P8A45Qf2LvhCR/yS/4f/wDggtv/AIivTEG4/Q07FfGLGV/5397PoPq9K/wr7keXn9iz4QkEf8Kv8Aen/IBtv/iK7zw14O03wdo9vpuj6fY6Vp9moSC1s4FhhhX0VFAVfwFaZ6UoOKzqV6lT45N+rZUaUIu8Ur+gqLtWklXelOU5FFQaHifxa/4J6fBr47+Np/EnizwDo+qa5dqqz3gknt5J9oABfynUMwAAyQTgda5v/h0j+zsTz8MtNP8A2/3v/wAer6NzSg/hXZTzLFwjywqyS2tzNWOeWFoN3cFf0R85H/gkl+zqf+aY6Z/4H3n/AMeph/4JJfs7Iw/4tjpeex+33vH/AJGr6Rziql5fx2sLTTSRwxJ953YKqj6nj2+tV/amNvb20v8AwJ/5h9Tw/wDIvuR+I/7Fn7PPgv4l/wDBSGTwbrnh+31Dww2qazbjT3uZxGiQlvKAYSB/lxxlj75r9ME/4JJ/s7SjJ+GOmDJ/5/73/wCPV+fv/BPq8htv+Cssk0kkccS6zr53s4VOWcdSf8/z/Y61YHpg/jX2HGuOxVPF0lTnKK9nF7ta/eeDw/h6M6Em4p+8+h87D/gkj+zqf+aY6X/4H3n/AMepT/wSS/Z3/wCiY6X/AOB95/8AHq+jl+UYoI/Cvj/7Uxn/AD+l/wCBP/M976nh/wCRfcv8jx34MfsCfB/9nvxh/b/g/wAB6Po+tLGYlvd81xNGrfe2GV22E9yuCa9eih8s/wAsVIQRRzv/AArlrV6lWXPVk5Pu3f5am0KcIK0EkvIcOlFCniisygooooAKKKKACiiigAooooAKKKKACiiigAooooAKKKKACiiigAooooAKZLGX9KfRQB478af2CvhF+0R4tXXPGfgXSNa1hYhAbwvLBNIg+6HaJ1346Atk446VyK/8EkP2dVP/ACTLTf8AwYXv/wAer6QoIzXZTzDFwXLCrJLykznlhaEndwX3I+bv+HSH7Oo/5pnpv/gwvf8A49Qf+CSH7Ox/5pnpv/gwvf8A49X0iRmkK5q/7Wx3/P6f/gT/AMxfU8P/AM+19y/yPnAf8Ej/ANnZf+aZab/4ML3/AOPUf8Okv2dwePhnpg/7iF7/APHq+kAMUYyKX9q47rVl/wCBP/MPqeH/AJF9y/yPm8f8Ekf2diP+SY6Z/wCB95/8eo/4dKfs7f8ARMdL/wDA+8/+PV9Hlf8AOKWj+1Ma96sv/An/AJh9Tw/8i+5f5Hh/ws/4Jz/BX4K+OLXxJ4Z+Hui6drVgWa1umlnuGtyRgsgldlVsE/MBkZPPNe0vB846cc81PTdnPWuWtXq1nzVZOT822bU6cIK0El6I808Sfsb/AAo8a+ILrVtY+HHgjUtSvm8y4up9Hgklnc4yzMVySfU8mqX/AAwh8Fv+iU+Af/BHb/8AxNesbKNlaxx2JSsqkvvZH1ek9XFfceTH9hD4L5/5JX4B/wDBJB/8TS/8MJ/Bf/olfgD/AMEcH/xNesNHuNHlc0/r2J/5+S+9i+q0f5F9y/yPJ/8Ahg74LD/mlfgH/wAElv8A/E0f8MJfBgn/AJJV4B/DQ7f/AOJr1gJS7cUfXsT/AM/Jfe/8xfVaP8i+5f5Hk3/DCHwWH/NKvAX/AII4P/iaD+wf8Fyf+SV+Af8AwR2//wATXrOwUm3Bo+vYn/n5L73/AJlfVqP8q+5HH/DX4C+DPgzHdL4R8K+HvDIvipuf7NsIrb7Rtzt3lFBbGTjOQMmpPit8EvC/xz8HXHh3xdoen6/o12Q0ltdoWUMPuupBDIw7MpBHr69cRxTRHisPbVOf2l9e/X7y/ZxUeRJW7Hzif+CSf7O5P/JMtLPP/P8A3v8A8eoP/BJL9nb/AKJjpf8A4H3n/wAer6OKU6uv+1Mb1rS/8Cf+Zl9TofyL7kfN7f8ABJL9nYj/AJJjpf4X95/8eoH/AASS/Z2zz8MdM/8AA+9/+PV9IUUf2pjf+f0v/An/AJi+pYf+Rfcv8j5uP/BJL9nXP/JMtM/C/vf/AI9R/wAOkP2dgf8Akmem/wDgwvf/AI9X0jRT/tbHL/l9P/wJ/wCYfU8P/IvuX+R83/8ADpD9nX/omOl/+B17/wDHqD/wSR/Z3P8AzTHS/wAb+95/8jV9IEZpMUv7Vx3/AD+l/wCBP/Mf1PD/AMi+5GJ4H+H+kfDXwpp+g+H9NstH0XSohb2dlaRCOG3QdlUcckkn1Jyec0Vt4oricm3d6nRtojzj9pr9pfw/+yf8G9U8ceKHujpemNFEtvaRCS6vZpXEcUESkgF3dgBkhQMliACa+Om/4OEvCe8/8Wn+IWM4AN7pe78f9I6/Qmu5/wCC7HH7DcI/6m7SP/Rxr8i/Lwfwr9R4F4RwOZYOWIxabfNZWdtF6HxnEWeYnB1406DS0u9Ln6df8RCXhMf80n+IP/gdpn/yRQP+DhPwnnj4S/EH0/4/dM/+SK/N/wCGfhNfH3xR8MeH5LiS1j8QazZaW8yLuaBZ50iLhe5UNnHfFe1/HD9g5fhx4ihGneIltfD9tpt/qGr6r4gaJbfSI7S+Fll5bYyI7SyNFtjU+YplG4KRx72O4U4awlaNDEXi5a7ux5lHPs2rU3Up2a9Eek/twf8ABSj4U/tyfD2HS9b+FPxC0vXNJLzaLrcN3pbT6ZMwBII+0YeF9qh0J5A4wwBrlv8Agn/+3V8Mf2ItAm1C4+GnjjxN8QNXjEep61FdadHBEu4kQWqNOGSIDGWcb3YNnAwB59e/sL+NNHe6t7668PWepebfrpVhJe5n8RR2Mcct3NafLtaOOOWMgsRuLgAHFb3xW/4J++INAu/GeqeG3W48K+GS32SS/lxdXqxWkE9ycqnljYZiBuK7gMDLAmt44Hhz6v8AUYVZezk72Una+34mP17M3V+s8q5rW2R9cr/wcJ+El/5pP8Qv/A3TP/kilb/g4T8J/wDRJ/iF/wCBumf/ACRXxTdfsMeJrL7LcS634Vh0a40W71+TVri4lt7S2tbWSGOcuZI1fK+ehGBh+cE8A+a/E74c6h8I/iJrHhnVjbtqGi3HkTtbvvifgEOh6lSpUg8fe6ZFRhOEeGMTP2dBttK9uaXT/gl1uIM2pR55pL5H6Pn/AIOE/CRH/JJ/iFnt/pumc/8AkxX1V+x/+2b4Y/bU+Gb+JfC8Oqaf9juTZahpupRol3YShQwVvLZ42BUghkZlIPXORX4MbMg/Melfp3/wb9jPwy+JDEfN/bcHP/bvXjcZ8G5fl+X/AFrCJxkmlq77+p6OQZ/isVifZVmmrdrH6GxfdolYhePWnKMCmyfw/WvyQ+4PlP41/wDBYf4P/An4kal4T1C48Sa1rGiym31D+xtJe6t7WUdYzKSqM46EKTg8HB4rlR/wXk+CoP8AyDPiN/4IP/tlflf8ZWY/HT4hdy3jHW+T3/4mVz/QVz54TPvmv3LL/DXLamGhVqSldpN6patdrH51iuLMXCtKEErJn64N/wAF5Pgqf+YZ8Rv/AAQf/Z1j+Nf+C1X7P/xD8K6loWueH/Hup6PrFs9pe2lx4d3R3ETAqyEeZ0Of8nkfnrffs3/2V4K8JTXPiBP+Ez8e2VvqegeGLbTZZ572C4uTDbqZl/dpLIAzqhHAX5iDwZbb9ir4jX2sNZQaXo9x5dq12byLW7RrDy1uRayf6QJDHlJz5bDduDEDAzXN/qdw6nrWlHV7tLbdq61S7ov/AFgzVrSmn8u/zOp+Dmofs0/Dn9o6fxJrV18RPEXgPS5Vu/D/AIfm8Mt9oinJLbbyTzcSRw4GwKAZN3z/AHPn+8bf/gu58E7dQq6b8RlVcAKPD+AoHQD56/Oq7/Yb+KGna5Dptx4fs4LiSC6uGMmrWqxQLavGs4lk8zZG8bSR5ViDhgcVb1P9ibxdpnha1la3WPxBHqep2eqWFzNFBa6VBZpC32h7kvs8txMuDnHzDB9OnHZDkGKnGeIxTk7JJ8y2S9PIxw2bZhRi40qSWt9j9Df+H8vwVx/yC/iP9f7A/wDs6G/4Lx/BUj/kH/Eb/wAEH/2dfmd4w/ZX+IHw/wDDuvaxrXh2Ww0vwzNLb6pcyTxGOymSaG3ELEHHmPJcQbF6yK+5cjkcBtyMcVphvD7IsQnKhVlJLe0k7fgFTinMKbtUil8j9ovgH/wV3+EP7RPxKsfCOl3XiLR9a1Z/LsE1jSntYrx8Z8tJMsu8gcKxBbHGa+oLV2kX5sZx2r+fz9kn5P2t/hX/ALPiywPH/XSv6AQds7L6nP61+ccacP0MpxUKWHbcZK+p9Tw/mlTHUZTqJXTLC8CihTkUV8ge+FFFFABRRRQAUUUUAFFFFABRRRQAUUUUAFFFFABRRRQAUUUUAFFFFABRRRQAUUUUAFFFFABRRRQAUUUUAFFFFABRRRQAUUUUAFFFFABRRRQAUUUUAFFFFABRRRQAUUUUAFFFFABRRRQB8Z/8FytFutT/AGDrq5gt5JodL8S6Te3bIu77PCLhUaRsdFDOu4ngAkmvx9Oo2+flng68/OK/o+1PRYNZ0+azure3urW4RklhmQSRyq3VWU8EH0Neej9jP4UFst8NfAuT1/4ksHJ/75r7/hTjWOUYaWGnS5ru+9ux8xnXD8sdVVWM7aW7n4G+HfGD+EPE2m6zp95DDqGj3kWoWkpKsI5oXEkbEE84ZQcd69Gn/ba8Y3OsSTSXXhdrCeC7tbjRxpNuNJvFup47i4eW3A2vK8saSGQ/NvUHPXP7XD9jL4U4/wCSa+Bf/BJb/wDxNH/DGfwpz/yTXwL/AOCS3/8Aia9zFeImX4iSnXwnM0ratf5Hm0eFcTSVqdax+Jlz+2r47v7HU47jXtPuptTlvJheT2kL3Wnm7VFuUtX6wJKsaBlXjCLjBFJrf7ZXjLxNo2oWOp6noupQahc/bFa5sopJLGcxRxmS3P8AyzJWGPOMglc9c1+2h/Yy+FH/AETXwL/4JLf/AOJo/wCGMvhPj/kmvgT/AMEsH/xNYR46ytbYJfejT/VvGP8A5fn4n+P/ANtnxx8TbfU4dW1rS2i1jTr3S7xIbWOPz4bt4pLkkgn55GgjJPbnHpXD+PfibefE3xjfa9rN7a3Gqak6yXEqbY1cqoQfKOBgL+o96/ej/hjT4T5/5Jr4D/8ABLb/APxNH/DGfwn/AOia+BP/AAS2/wD8TW+F8RMBh9aOE5X5NGdThXE1Fada69GfgCmo26DP2iH/AL7FfqL/AMEAtKuYfgv4+1FreRbK+12JbacqdlwY4QH2HowGcZHfIr64P7Gfwn3f8kz8CY/7Atv/APE13XhvwjY+ENHt9O0mxsdN0+1XbDbWsCwwxD0VV4AryeJ+Oo5phPqsKXLdptt32O7J+G3g6/tnO5qxnKUSfw/WnLwtR3EZljwOOa/Oj6s/nf8AjdaTWHx++ItvNHJDNH4x1kvG67WTdqE7rke6srD1BB71zZUlQPz4r94vil+wR8I/jX4zuPEHijwDoOqazdgCe7ZGjknxwC5UjccdzzwK5/8A4dYfAH/omeg/99S//F1+y4HxOwtHDwpToyvFJaWtpofn+J4RrVKsqkZqzbPyO0P9rLXtD0Hwcn9jeG7zxB8PxBD4e8Q3UDyahpsENyLiOEYYI6qcoNy52Mwp2uftX6reeE7vw7pfhzwv4d8NXVqLaPSbGCT7Pan+0YtRd13MTuaaFBySAqgAd6/XAf8ABK74BH/mmeg/99S//FUf8Or/AIAj/mmeg/g0v/xdcVTjbI5u8sLJ/wDB+fr977m0eHMelZVT8uPB/wC3DcGTxYPFfhvRdctfEEesXKWQtz9nmvNSa3MqzjcCYQLcYIO4E9ahsf8AgoX48tNbvLryNIWG/luzcW0KSW6GKdIU8hHRg6LGLeLYVIIwea/Uxv8Aglb8ASf+SZ6D/wB9y/8AxVH/AA6t+AR/5pnoOP8Ael/+KrH/AFuyG7f1WWvmrL0Vy/7AzGyXtUfkb4n/AGsfEHir4ceJvCM2naOug+Kro6jexuss0/20TxSxXazOzSebGsKxrk4MZdTnIry8IR7n0H51+4X/AA6w+AR/5pnoP/fUv/xVB/4JW/AL/omOg/8AfUv/AMVXpYPxGyvCJxw+HlFS1e2r+8wrcK4ys06lVOx+P37IUL3P7XnwpijRpJG8WWBCKMsQHJJx7DJr9/lIM3XvivJvhN+wn8J/gd4vj17wr4D0LSdYhUpFdorSSQqRg7SxO0n27V6wsDKR3/Svh+L+I4ZvioVqcHGMVbU+iyPKXgKUoSd22WBGCc06kT7tLXyZ7gUUUUAFFFFABRRRQAUUUUAFFFFABRRRQAUUUUAFFFFABRRRQAUUUUAFFFFABRRRQAUUUUAFFFFABRRRQAUUUUAFFFFABRRRQAUUUUAFFFFABRRRQAUUUUAFFFFABRRRQAUUUUAFFFFAEY/xpT1/D/CiipRS2AmndqKKozQinINAHFFFNFRChhRRVmg2XiiI5FFFZvcmRIOlFFFBJH1B+tOSiioiA6k/j/CiimAklITzRRT6FD6KKKRI1ulNPSiiiIdSRelFFFUAUUUUAFFFFABRRRQAUUUUAFFFFABRRRQAUUUUAFFFFABRRRQAUUUUAFFFFABRRRQAUUUUAFFFFABRRRQAUUUUAFFFFABRRRQAUUUUAFFFFABRRRQAUUUUAFFFFABRRRQAUUUUAFFFFAH/2Q==)"
      ],
      "metadata": {
        "id": "Adlsh4odiNF9"
      }
    },
    {
      "cell_type": "markdown",
      "source": [
        "### Cadenas de texto"
      ],
      "metadata": {
        "id": "joPgVetm5V_t"
      }
    },
    {
      "cell_type": "markdown",
      "source": [
        "**string**"
      ],
      "metadata": {
        "id": "dr5HFd6SSOMa"
      }
    },
    {
      "cell_type": "markdown",
      "source": [
        "Las cadenas de texto (str) son una secuencia de caracteres."
      ],
      "metadata": {
        "id": "zyYQW-S6Sh7h"
      }
    },
    {
      "cell_type": "code",
      "source": [
        "cadena = \"Soy una secuencia de caracteres\"\n",
        "\n",
        "print(type(cadena))"
      ],
      "metadata": {
        "colab": {
          "base_uri": "https://localhost:8080/"
        },
        "id": "Ecqjh8S3SwmM",
        "outputId": "dd55e2d4-bbfe-4735-a40a-d2ca7c5a94f6"
      },
      "execution_count": null,
      "outputs": [
        {
          "output_type": "stream",
          "name": "stdout",
          "text": [
            "<class 'str'>\n"
          ]
        }
      ]
    },
    {
      "cell_type": "markdown",
      "source": [
        "**Uso de comillas**"
      ],
      "metadata": {
        "id": "9HwB63dHS6Ny"
      }
    },
    {
      "cell_type": "markdown",
      "source": [
        "Para crear una cadena se pueden usar las comillas dobles (\"\") o comillas simples (''). También, se pueden usar comillas triples."
      ],
      "metadata": {
        "id": "M29vaEwA2wsP"
      }
    },
    {
      "cell_type": "code",
      "source": [
        "comillasDobles = \"Un string es una secuencia de caracteres\"\n",
        "comillasSimples = 'Un string es una secuencia de caracteres'\n",
        "comillasTriplesDobles = \"\"\"Un string es una secuencia de caracteres\"\"\"\n",
        "comillasTriplesSimples = '''Un string es una secuencia de caracteres'''\n",
        "\n",
        "print(comillasDobles)\n",
        "print(comillasSimples)\n",
        "print(comillasTriplesDobles)\n",
        "print(comillasTriplesSimples)"
      ],
      "metadata": {
        "colab": {
          "base_uri": "https://localhost:8080/"
        },
        "id": "c6mpKfZY24HL",
        "outputId": "9eee8338-f5ca-4b69-aa4b-85cfaadf37f8"
      },
      "execution_count": null,
      "outputs": [
        {
          "output_type": "stream",
          "name": "stdout",
          "text": [
            "Un string es una secuencia de caracteres\n",
            "Un string es una secuencia de caracteres\n",
            "Un string es una secuencia de caracteres\n",
            "Un string es una secuencia de caracteres\n"
          ]
        }
      ]
    },
    {
      "cell_type": "markdown",
      "source": [
        "Para que las comillas se muestren se debe hacer de la siguiente manera:"
      ],
      "metadata": {
        "id": "ZrVZSfzc3H2o"
      }
    },
    {
      "cell_type": "code",
      "source": [
        "# Mostrar comillas simples\n",
        "print(\"La función 'print()' permite mostrar datos.\")\n",
        "\n",
        "# Mostrar comillas dobles\n",
        "print('La función \"print()\" permite mostrar datos.')\n",
        "\n",
        "# Usar comillas dobles y simples\n",
        "print('\"La función \\'print()\\' permite mostrar datos.\"')\n",
        "print(\"'La función \\\"print()\\\" permite mostrar datos'\")\n",
        "\n",
        "# Nota: Python toma el backslash (\\) como un caracter especial.\n",
        "# Para que no afecte al momento de usar 'print()' se usa la letra 'r' antes de la primera comilla.\n",
        "print(r\"C:\\python\\bin\")"
      ],
      "metadata": {
        "id": "Jsp3I_2G3HSm",
        "colab": {
          "base_uri": "https://localhost:8080/"
        },
        "outputId": "73d3bbfd-e189-4287-8be6-2b464fbaaaf3"
      },
      "execution_count": 13,
      "outputs": [
        {
          "output_type": "stream",
          "name": "stdout",
          "text": [
            "La función 'print()' permite mostrar datos.\n",
            "La función \"print()\" permite mostrar datos.\n",
            "\"La función 'print()' permite mostrar datos.\"\n",
            "'La función \"print()\" permite mostrar datos'\n",
            "C:\\python\\bin\n"
          ]
        }
      ]
    },
    {
      "cell_type": "markdown",
      "source": [
        "Para crear una cadena de varias líneas se hace uso de triples comilllas simples o dobles."
      ],
      "metadata": {
        "id": "3JA12pTNvxmO"
      }
    },
    {
      "cell_type": "code",
      "source": [
        "cadenaMultilinea = '''Hola,\n",
        "soy una cadena,\n",
        "una multilinea.\n",
        "'''\n",
        "print(cadenaMultilinea)"
      ],
      "metadata": {
        "colab": {
          "base_uri": "https://localhost:8080/"
        },
        "id": "i1g216DEyIq8",
        "outputId": "d997cfd1-4c8f-4dc9-e839-ca509a09f2eb"
      },
      "execution_count": 17,
      "outputs": [
        {
          "output_type": "stream",
          "name": "stdout",
          "text": [
            "Hola,\n",
            "soy una cadena,\n",
            "una multilinea. \n",
            "\n"
          ]
        }
      ]
    },
    {
      "cell_type": "markdown",
      "source": [
        "### Numéricos"
      ],
      "metadata": {
        "id": "_nK_XV40NUpH"
      }
    },
    {
      "cell_type": "markdown",
      "source": [
        "**int**"
      ],
      "metadata": {
        "id": "SmWIHH5iNmO3"
      }
    },
    {
      "cell_type": "markdown",
      "source": [
        "Son números enteros (no tienen decimales), tanto negativos, como positivos (pasando por 0)."
      ],
      "metadata": {
        "id": "MUCYkdHGOByW"
      }
    },
    {
      "cell_type": "code",
      "source": [
        "positivo = 24324\n",
        "negativo = -12345\n",
        "cero = 0\n",
        "\n",
        "print(type(positivo), type(negativo), type(cero))"
      ],
      "metadata": {
        "colab": {
          "base_uri": "https://localhost:8080/"
        },
        "id": "J38KR8cTOXsu",
        "outputId": "38d8476b-a1ed-450a-9012-0dcd27f1f0dc"
      },
      "execution_count": null,
      "outputs": [
        {
          "output_type": "stream",
          "name": "stdout",
          "text": [
            "<class 'int'> <class 'int'> <class 'int'>\n"
          ]
        }
      ]
    },
    {
      "cell_type": "markdown",
      "source": [
        "**float**"
      ],
      "metadata": {
        "id": "uwqMMh80PB7M"
      }
    },
    {
      "cell_type": "markdown",
      "source": [
        "Son números que tienen decimales. Pueden ser positivos o negativos."
      ],
      "metadata": {
        "id": "l2EUwP8NPT5c"
      }
    },
    {
      "cell_type": "code",
      "source": [
        "positivo = 23.349\n",
        "negativo = -2.2345\n",
        "\n",
        "print(type(positivo), type(negativo))"
      ],
      "metadata": {
        "colab": {
          "base_uri": "https://localhost:8080/"
        },
        "id": "pm3Tea1sPgqI",
        "outputId": "d03fb12d-bc57-4e04-a31b-b33a10f9a16f"
      },
      "execution_count": null,
      "outputs": [
        {
          "output_type": "stream",
          "name": "stdout",
          "text": [
            "<class 'float'> <class 'float'>\n"
          ]
        }
      ]
    },
    {
      "cell_type": "markdown",
      "source": [
        "**complex**"
      ],
      "metadata": {
        "id": "tFtyjK3uRTKC"
      }
    },
    {
      "cell_type": "markdown",
      "source": [
        "Los números complejos se escriben con una 'j' que representa la parte imaginaria."
      ],
      "metadata": {
        "id": "M4nzMG-SRVi_"
      }
    },
    {
      "cell_type": "code",
      "source": [
        "complejo = 3j\n",
        "\n",
        "print(type(complejo))"
      ],
      "metadata": {
        "colab": {
          "base_uri": "https://localhost:8080/"
        },
        "id": "Wy23S0A_Ri-k",
        "outputId": "b7657994-d484-494e-f8d3-e38d28932cfe"
      },
      "execution_count": null,
      "outputs": [
        {
          "output_type": "stream",
          "name": "stdout",
          "text": [
            "<class 'complex'>\n"
          ]
        }
      ]
    },
    {
      "cell_type": "markdown",
      "source": [
        "### Booleanos"
      ],
      "metadata": {
        "id": "fRgW7qrm6Iac"
      }
    },
    {
      "cell_type": "markdown",
      "source": [
        "**bool**"
      ],
      "metadata": {
        "id": "PcYhRyOxQEBC"
      }
    },
    {
      "cell_type": "markdown",
      "source": [
        "El tipo de dato bool tiene dos posibles valores: verdadero o falso."
      ],
      "metadata": {
        "id": "bVfwczvhQF-C"
      }
    },
    {
      "cell_type": "code",
      "source": [
        "verdadero = True\n",
        "falso = False\n",
        "\n",
        "print(type(verdadero), type(falso))"
      ],
      "metadata": {
        "colab": {
          "base_uri": "https://localhost:8080/"
        },
        "id": "LtgAel6kQNle",
        "outputId": "30267a7f-6b26-45bc-c747-8af39928145f"
      },
      "execution_count": null,
      "outputs": [
        {
          "output_type": "stream",
          "name": "stdout",
          "text": [
            "<class 'bool'> <class 'bool'>\n"
          ]
        }
      ]
    },
    {
      "cell_type": "markdown",
      "source": [
        "Los valores boolenaos pueden ser númericos. True corresponde a un 1. Mientras que False corresponde a un 0."
      ],
      "metadata": {
        "id": "i0hXOUw-QWmZ"
      }
    },
    {
      "cell_type": "code",
      "source": [
        "verdadero = int(True)\n",
        "falso = int(False)\n",
        "\n",
        "print(verdadero, falso)"
      ],
      "metadata": {
        "colab": {
          "base_uri": "https://localhost:8080/"
        },
        "id": "fnrA-c2wQseB",
        "outputId": "11784a6d-3500-4f0a-e801-a3133e3ba682"
      },
      "execution_count": null,
      "outputs": [
        {
          "output_type": "stream",
          "name": "stdout",
          "text": [
            "1 0\n"
          ]
        }
      ]
    },
    {
      "cell_type": "markdown",
      "source": [
        "### Conocer el tipo de dato"
      ],
      "metadata": {
        "id": "-UCAer9guwxV"
      }
    },
    {
      "cell_type": "markdown",
      "source": [
        "Para saber el tipo de dato se usa la función 'type()'\n",
        "\n"
      ],
      "metadata": {
        "id": "xbCKLfVbqVHc"
      }
    },
    {
      "cell_type": "code",
      "source": [
        "fruta = \"Manzana\"\n",
        "cantidad = 5\n",
        "\n",
        "print(type(fruta))\n",
        "print(type(cantidad))"
      ],
      "metadata": {
        "colab": {
          "base_uri": "https://localhost:8080/"
        },
        "id": "hJqw1yubqUlX",
        "outputId": "d40d4589-f75f-4d01-ff53-ebb1847c77c5"
      },
      "execution_count": null,
      "outputs": [
        {
          "output_type": "stream",
          "name": "stdout",
          "text": [
            "<class 'str'>\n",
            "<class 'int'>\n"
          ]
        }
      ]
    }
  ]
}