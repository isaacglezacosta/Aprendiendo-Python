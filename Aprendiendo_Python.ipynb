{
  "nbformat": 4,
  "nbformat_minor": 0,
  "metadata": {
    "colab": {
      "provenance": [],
      "collapsed_sections": [
        "LuLagcdsrIWf",
        "FLA3GSb_VbWN",
        "4wAtPej1uiso",
        "-UCAer9guwxV",
        "Nq6TBkfSu510"
      ],
      "include_colab_link": true
    },
    "kernelspec": {
      "name": "python3",
      "display_name": "Python 3"
    },
    "language_info": {
      "name": "python"
    }
  },
  "cells": [
    {
      "cell_type": "markdown",
      "metadata": {
        "id": "view-in-github",
        "colab_type": "text"
      },
      "source": [
        "<a href=\"https://colab.research.google.com/github/isaacglezacosta/Aprendiendo-Python/blob/main/Aprendiendo_Python.ipynb\" target=\"_parent\"><img src=\"https://colab.research.google.com/assets/colab-badge.svg\" alt=\"Open In Colab\"/></a>"
      ]
    },
    {
      "cell_type": "markdown",
      "source": [
        "# Aprendiendo Python\n",
        "Este es un cuaderno para aprender a programar en el lenguaje Python.\n"
      ],
      "metadata": {
        "id": "CF04q8fxU4x9"
      }
    },
    {
      "cell_type": "markdown",
      "source": [
        "### Primer programa"
      ],
      "metadata": {
        "id": "9miEyaFUVOTq"
      }
    },
    {
      "cell_type": "code",
      "execution_count": null,
      "metadata": {
        "colab": {
          "base_uri": "https://localhost:8080/"
        },
        "id": "-WS06s0wU0bE",
        "outputId": "06766d95-fcfc-4356-f585-d481d7d4cd56"
      },
      "outputs": [
        {
          "output_type": "stream",
          "name": "stdout",
          "text": [
            "Hola, mundo\n"
          ]
        }
      ],
      "source": [
        "print(\"Hola, mundo\")"
      ]
    },
    {
      "cell_type": "markdown",
      "source": [
        "### Entrada/Salida de datos"
      ],
      "metadata": {
        "id": "LuLagcdsrIWf"
      }
    },
    {
      "cell_type": "markdown",
      "source": [
        "En un progrma es fundamental que el usuario pueda interactuar con él y también que nuestro programa pueda mostrar información. Para que el usuario pueda ingresar datos usamos la función 'input()', para mostrar información usamos la función 'print()'."
      ],
      "metadata": {
        "id": "GQGGY0lzuVx1"
      }
    },
    {
      "cell_type": "code",
      "source": [
        "nombre = input(\"¿Cuál es su nombre? \")\n",
        "\n",
        "print(f\"¡Hola, {nombre}!\")"
      ],
      "metadata": {
        "colab": {
          "base_uri": "https://localhost:8080/"
        },
        "id": "M7HyJj7srpHn",
        "outputId": "f0f70aef-706f-43d0-b39d-e5f778af6768"
      },
      "execution_count": 6,
      "outputs": [
        {
          "output_type": "stream",
          "name": "stdout",
          "text": [
            "¿Cuál es su nombre? Víctor\n",
            "¡Hola, Víctor!\n"
          ]
        }
      ]
    },
    {
      "cell_type": "markdown",
      "source": [
        "## Comentarios"
      ],
      "metadata": {
        "id": "FLA3GSb_VbWN"
      }
    },
    {
      "cell_type": "markdown",
      "source": [
        "### Comentarios en una linea"
      ],
      "metadata": {
        "id": "xc2_VDqktJhI"
      }
    },
    {
      "cell_type": "markdown",
      "source": [
        "Los comentarios sirven para comentar partes de código y saber qué hace cada cosa."
      ],
      "metadata": {
        "id": "bWG-jLmXVts_"
      }
    },
    {
      "cell_type": "code",
      "source": [
        "# Este es un comentario\n",
        "\n",
        "print(\"Hola, Python\") # Esta línea muestra en consola 'Hola, Python'"
      ],
      "metadata": {
        "colab": {
          "base_uri": "https://localhost:8080/"
        },
        "id": "ykALjgn-VNgO",
        "outputId": "9602f9cd-6211-4474-e9cd-05742d97c2e0"
      },
      "execution_count": 7,
      "outputs": [
        {
          "output_type": "stream",
          "name": "stdout",
          "text": [
            "Hola, Python\n"
          ]
        }
      ]
    },
    {
      "cell_type": "markdown",
      "source": [
        "### Comentario en múltiples líneas"
      ],
      "metadata": {
        "id": "sSCGxX9atbmy"
      }
    },
    {
      "cell_type": "code",
      "source": [
        "\"\"\"\n",
        "Este es un\n",
        "comentario en\n",
        "múltiples líneas\n",
        "\"\"\""
      ],
      "metadata": {
        "id": "8fhSIsHmtiFH"
      },
      "execution_count": null,
      "outputs": []
    },
    {
      "cell_type": "markdown",
      "source": [
        "### Usos"
      ],
      "metadata": {
        "id": "5LNQzHp5tyni"
      }
    },
    {
      "cell_type": "markdown",
      "source": [
        "Los comentarios pueden usarse para comentar partes del código que nos ayude a saber qué hace para revisiones posteriores. Además permite descubrir posibles bugs, comentando el código que posiblemente tiene el bug o el que creemos que está bien."
      ],
      "metadata": {
        "id": "1wuSjh86Xhi8"
      }
    },
    {
      "cell_type": "code",
      "source": [
        "nombre = \"Julia\"\n",
        "edad = 23\n",
        "\n",
        "print(\"Su nombre es:\", nombre)\n",
        "# print(\"Tiene\", edad \"años\")"
      ],
      "metadata": {
        "colab": {
          "base_uri": "https://localhost:8080/"
        },
        "id": "9wMXy3G5YC_y",
        "outputId": "de98db59-3894-4800-83c8-b53bbde48b18"
      },
      "execution_count": null,
      "outputs": [
        {
          "output_type": "stream",
          "name": "stdout",
          "text": [
            "Su nombre es: Julia\n"
          ]
        }
      ]
    },
    {
      "cell_type": "markdown",
      "source": [
        "## Variables"
      ],
      "metadata": {
        "id": "xgRAYawxmb34"
      }
    },
    {
      "cell_type": "markdown",
      "source": [
        "### ¿Qué son?"
      ],
      "metadata": {
        "id": "4wAtPej1uiso"
      }
    },
    {
      "cell_type": "markdown",
      "source": [
        "Una variable es un espacio en memoria. Todas las variables que creamos tienen un nombre y un valor."
      ],
      "metadata": {
        "id": "aKVK5mIQuoEs"
      }
    },
    {
      "cell_type": "code",
      "source": [
        "edad = 18 # La variable tiene el nombre de 'edad' y su valor es '18'."
      ],
      "metadata": {
        "id": "ciJBIa1Ko3ch"
      },
      "execution_count": null,
      "outputs": []
    },
    {
      "cell_type": "markdown",
      "source": [
        "### Conocer el tipo de dato de una variable"
      ],
      "metadata": {
        "id": "-UCAer9guwxV"
      }
    },
    {
      "cell_type": "markdown",
      "source": [
        "Para saber el tipo de dato de nuestra variable podemos usar la función 'type()'\n",
        "\n"
      ],
      "metadata": {
        "id": "xbCKLfVbqVHc"
      }
    },
    {
      "cell_type": "code",
      "source": [
        "fruta = \"Manzana\"\n",
        "cantidad = 5\n",
        "\n",
        "print(type(fruta))\n",
        "print(type(cantidad))"
      ],
      "metadata": {
        "colab": {
          "base_uri": "https://localhost:8080/"
        },
        "id": "hJqw1yubqUlX",
        "outputId": "d40d4589-f75f-4d01-ff53-ebb1847c77c5"
      },
      "execution_count": 1,
      "outputs": [
        {
          "output_type": "stream",
          "name": "stdout",
          "text": [
            "<class 'str'>\n",
            "<class 'int'>\n"
          ]
        }
      ]
    },
    {
      "cell_type": "markdown",
      "source": [
        "### Nombrar una variable"
      ],
      "metadata": {
        "id": "Nq6TBkfSu510"
      }
    },
    {
      "cell_type": "markdown",
      "source": [
        "Existen una serie de reglas para nombrar variables:\n",
        "\n",
        "*   Una variable puede contener letras (A-z), números (0-9) y guiones bajos.\n",
        "*   Una variable puede empezar por una letra o un guión bajo, pero nunca por un número.\n",
        "*   No se pueden usar las [palabras reservadas](https://www.geeksforgeeks.org/python-keywords/).\n",
        "\n",
        "\n",
        "\n"
      ],
      "metadata": {
        "id": "tSX2SQdSvImU"
      }
    },
    {
      "cell_type": "markdown",
      "source": [
        "\n",
        "\n",
        "```\n",
        "# Variables nombradas correctamente\n",
        "mivariable = 10\n",
        "mi_variable = 10\n",
        "_mivariable = 10\n",
        "MIVARIABLE = 10\n",
        "MiVariable1 = 10\n",
        "\n",
        "# Variables nombradas incorrectamente\n",
        "1mivariable = 10\n",
        "mi variable = 10\n",
        "mi-variable = 10\n",
        "```\n",
        "\n"
      ],
      "metadata": {
        "id": "YfvAozOJx7Af"
      }
    },
    {
      "cell_type": "markdown",
      "source": [
        "Existen una serie de convenciones para nombrar correctamente una variable."
      ],
      "metadata": {
        "id": "QbS-Sw7qxQDq"
      }
    },
    {
      "cell_type": "markdown",
      "source": [
        "**Camel Case**\n",
        "\n"
      ],
      "metadata": {
        "id": "GUA2G7RexXiJ"
      }
    },
    {
      "cell_type": "markdown",
      "source": [
        "Cada palabra, menos la primera, se escribe la primera letra en mayúscula.\n",
        "\n",
        "```\n",
        "miVariable = 10\n",
        "```"
      ],
      "metadata": {
        "id": "eBHI58B_x0ox"
      }
    },
    {
      "cell_type": "markdown",
      "source": [
        "**Pascal Case**"
      ],
      "metadata": {
        "id": "gWZQl4wgyB6u"
      }
    },
    {
      "cell_type": "markdown",
      "source": [
        "Cada palabra inicia con la primera letra en mayúscula.\n",
        "\n",
        "\n",
        "```\n",
        "MiVariable = 10\n",
        "```\n",
        "\n"
      ],
      "metadata": {
        "id": "3SC0CcK5yEcq"
      }
    },
    {
      "cell_type": "markdown",
      "source": [
        "**Snake Case**"
      ],
      "metadata": {
        "id": "fHD1301OyN2y"
      }
    },
    {
      "cell_type": "markdown",
      "source": [
        "Cada palabra se separa por un guión bajo.\n",
        "\n",
        "\n",
        "```\n",
        "mi_variable = 10\n",
        "```\n",
        "\n"
      ],
      "metadata": {
        "id": "uxvhO0wTyRnq"
      }
    },
    {
      "cell_type": "markdown",
      "source": [
        "Como regla general:\n",
        "\n",
        "*   Usar nombres para variables (ejemplo article).\n",
        "*   Usar verbos para funciones (ejemplo get_article()).\n",
        "*   Usar verbos para funciones (ejemplo get_article())."
      ],
      "metadata": {
        "id": "AEgfh4sty13I"
      }
    },
    {
      "cell_type": "markdown",
      "source": [
        "Es importante recalcar que una variable debe tener un nombre que sea preferentemente corto pero que sea conciso con lo que almacena.\n",
        "\n",
        "\n",
        "```\n",
        "# Evitar usar\n",
        "x = 1\n",
        "# En su lugar usar algo como\n",
        "numero = 1\n",
        "```\n",
        "\n"
      ],
      "metadata": {
        "id": "evjRbpslyZkW"
      }
    },
    {
      "cell_type": "markdown",
      "source": [
        "### Asignación"
      ],
      "metadata": {
        "id": "Q4bf-dC7uqZu"
      }
    },
    {
      "cell_type": "markdown",
      "source": [
        "Para crear una variable primero ponemos el nombre de la variable, posteriormente el operador de asignación ('=') y luego el valor."
      ],
      "metadata": {
        "id": "bgrJhaScszq9"
      }
    },
    {
      "cell_type": "code",
      "source": [
        "nombre_variable = \"valor_variable\""
      ],
      "metadata": {
        "id": "n68VRQa1svDY"
      },
      "execution_count": null,
      "outputs": []
    },
    {
      "cell_type": "markdown",
      "source": [
        "En Python las variables se definen de forma dinámica, lo que quiere decir que no hace falta especificar cuál es el tipo de dato que va a almacenar nuestra variable."
      ],
      "metadata": {
        "id": "Ed86oY_5p5Tw"
      }
    },
    {
      "cell_type": "code",
      "source": [
        "fruta = \"Manzana\" # str\n",
        "cantidad = 5 # int"
      ],
      "metadata": {
        "id": "_R4zvTDLp4wA"
      },
      "execution_count": null,
      "outputs": []
    },
    {
      "cell_type": "markdown",
      "source": [
        "Asignación múltiple"
      ],
      "metadata": {
        "id": "wP8rDQt6zdxs"
      }
    },
    {
      "cell_type": "markdown",
      "source": [
        "## Tipo de datos"
      ],
      "metadata": {
        "id": "dYvhHlN8zT3Z"
      }
    }
  ]
}