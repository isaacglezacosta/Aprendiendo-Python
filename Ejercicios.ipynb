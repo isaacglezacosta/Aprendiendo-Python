{
  "nbformat": 4,
  "nbformat_minor": 0,
  "metadata": {
    "colab": {
      "provenance": [],
      "authorship_tag": "ABX9TyMaDcCwKgeUZu21DY8euzTY",
      "include_colab_link": true
    },
    "kernelspec": {
      "name": "python3",
      "display_name": "Python 3"
    },
    "language_info": {
      "name": "python"
    }
  },
  "cells": [
    {
      "cell_type": "markdown",
      "metadata": {
        "id": "view-in-github",
        "colab_type": "text"
      },
      "source": [
        "<a href=\"https://colab.research.google.com/github/isaacglezacosta/Aprendiendo-Python/blob/main/Ejercicios.ipynb\" target=\"_parent\"><img src=\"https://colab.research.google.com/assets/colab-badge.svg\" alt=\"Open In Colab\"/></a>"
      ]
    },
    {
      "cell_type": "markdown",
      "source": [
        "## Variables y tipos de datos"
      ],
      "metadata": {
        "id": "bqQeNPwA5_qJ"
      }
    },
    {
      "cell_type": "code",
      "execution_count": 1,
      "metadata": {
        "colab": {
          "base_uri": "https://localhost:8080/"
        },
        "id": "xunUQ8gX5Sro",
        "outputId": "3009095c-e3e8-4eb6-b4cd-6190e55c3700"
      },
      "outputs": [
        {
          "output_type": "stream",
          "name": "stdout",
          "text": [
            "<class 'int'>\n"
          ]
        }
      ],
      "source": [
        "# Asigna un valor entero 2001 a la variable space_odyssey y muestra su valor.\n",
        "space_odyssey = 2001\n",
        "\n",
        "print(type(space_odyssey))"
      ]
    },
    {
      "cell_type": "code",
      "source": [
        "# Descubre el tipo del literal 'Good night & Good luck'.\n",
        "print(type(\"Good night & Good luck\"))"
      ],
      "metadata": {
        "colab": {
          "base_uri": "https://localhost:8080/"
        },
        "id": "BGg3Sc606VNg",
        "outputId": "be02a2d4-0477-496c-b73f-ae3a5bb5f548"
      },
      "execution_count": 2,
      "outputs": [
        {
          "output_type": "stream",
          "name": "stdout",
          "text": [
            "<class 'str'>\n"
          ]
        }
      ]
    },
    {
      "cell_type": "code",
      "source": [
        "# Identifica el tipo del literal True.\n",
        "print(type(True))"
      ],
      "metadata": {
        "colab": {
          "base_uri": "https://localhost:8080/"
        },
        "id": "MKBqDkTQ6kcF",
        "outputId": "378a7a6a-5bf4-4e28-8467-199e599d7422"
      },
      "execution_count": 3,
      "outputs": [
        {
          "output_type": "stream",
          "name": "stdout",
          "text": [
            "<class 'bool'>\n"
          ]
        }
      ]
    },
    {
      "cell_type": "code",
      "source": [
        "# Asigna la expresión 10 * 3.0 a la variable result y muestra su tipo.\n",
        "result = 10 * 3.0\n",
        "\n",
        "print(type(result))"
      ],
      "metadata": {
        "colab": {
          "base_uri": "https://localhost:8080/"
        },
        "id": "-HG34hc86sET",
        "outputId": "b92663ea-c30a-4ca8-82f6-dc5180008f4b"
      },
      "execution_count": 4,
      "outputs": [
        {
          "output_type": "stream",
          "name": "stdout",
          "text": [
            "<class 'float'>\n"
          ]
        }
      ]
    }
  ]
}